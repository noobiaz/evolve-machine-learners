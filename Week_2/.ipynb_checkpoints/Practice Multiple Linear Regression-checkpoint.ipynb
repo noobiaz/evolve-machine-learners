{
 "cells": [
  {
   "cell_type": "code",
   "execution_count": 1,
   "metadata": {},
   "outputs": [],
   "source": [
    "import numpy as np\n",
    "import pandas as pd\n",
    "import matplotlib.pyplot as plt\n",
    "from mpl_toolkits.mplot3d import Axes3D"
   ]
  },
  {
   "cell_type": "code",
   "execution_count": 2,
   "metadata": {},
   "outputs": [
    {
     "name": "stdout",
     "output_type": "stream",
     "text": [
      "(1000, 3)\n"
     ]
    },
    {
     "data": {
      "text/html": [
       "<div>\n",
       "<style scoped>\n",
       "    .dataframe tbody tr th:only-of-type {\n",
       "        vertical-align: middle;\n",
       "    }\n",
       "\n",
       "    .dataframe tbody tr th {\n",
       "        vertical-align: top;\n",
       "    }\n",
       "\n",
       "    .dataframe thead th {\n",
       "        text-align: right;\n",
       "    }\n",
       "</style>\n",
       "<table border=\"1\" class=\"dataframe\">\n",
       "  <thead>\n",
       "    <tr style=\"text-align: right;\">\n",
       "      <th></th>\n",
       "      <th>Math</th>\n",
       "      <th>Reading</th>\n",
       "      <th>Writing</th>\n",
       "    </tr>\n",
       "  </thead>\n",
       "  <tbody>\n",
       "    <tr>\n",
       "      <th>0</th>\n",
       "      <td>48</td>\n",
       "      <td>68</td>\n",
       "      <td>63</td>\n",
       "    </tr>\n",
       "    <tr>\n",
       "      <th>1</th>\n",
       "      <td>62</td>\n",
       "      <td>81</td>\n",
       "      <td>72</td>\n",
       "    </tr>\n",
       "    <tr>\n",
       "      <th>2</th>\n",
       "      <td>79</td>\n",
       "      <td>80</td>\n",
       "      <td>78</td>\n",
       "    </tr>\n",
       "    <tr>\n",
       "      <th>3</th>\n",
       "      <td>76</td>\n",
       "      <td>83</td>\n",
       "      <td>79</td>\n",
       "    </tr>\n",
       "    <tr>\n",
       "      <th>4</th>\n",
       "      <td>59</td>\n",
       "      <td>64</td>\n",
       "      <td>62</td>\n",
       "    </tr>\n",
       "  </tbody>\n",
       "</table>\n",
       "</div>"
      ],
      "text/plain": [
       "   Math  Reading  Writing\n",
       "0    48       68       63\n",
       "1    62       81       72\n",
       "2    79       80       78\n",
       "3    76       83       79\n",
       "4    59       64       62"
      ]
     },
     "execution_count": 2,
     "metadata": {},
     "output_type": "execute_result"
    }
   ],
   "source": [
    "data = pd.read_csv('student.csv')\n",
    "print(data.shape)\n",
    "data.head()"
   ]
  },
  {
   "cell_type": "code",
   "execution_count": 3,
   "metadata": {},
   "outputs": [
    {
     "name": "stdout",
     "output_type": "stream",
     "text": [
      "[ 48  62  79  76  59  69  70  46  61  86  62  72  56  81  61  49  60  45\n",
      "  71  75  66  57  67  63  68  68  62  56  82  64  71  69  64  76  61  47\n",
      "  50  75  69  42  73  78  65  51  61  69  51  64  90  58 100  73  62  45\n",
      "  47  53  62  49  77  70  60  82 100  72  62  87  56  96  68  66  68  59\n",
      "  52  60  60  46  62  30  83  69  82  64  57  71  37  69  72  73  70  75\n",
      "  54  71  60  81  58  54  49  64  84  84  33  51  68  32  43  73  82  47\n",
      "  74  36  58  68  92  75  43  68  49  69  91  83  65  79  74  81  41  48\n",
      "  31  53  87  94  77  57  64  55  61  78  94  88  77  90  55  83  68  66\n",
      "  56  65  84  90  80  47  67  79  68  62  62  44  74  67  46  71  73  49\n",
      "  42  55  73  75  96  66  56 100  53  68  72  55  59  76  84  68  61  53\n",
      "  73  61  73  63  51  70  69  61  88  90  60 100  68  85  41  70  91  68\n",
      "  63  81  89  66  59  80  87  30  63  43  73  49  65  72  83  46  65 100\n",
      "  40  73  58  87  61  71  72  81  67  69  53  70  56  84  44  63  82  61\n",
      "  68  75  78  32  62  84  65  41  57  54  58  68  53  30  63  36  85  66\n",
      "  45  69  71  70  31  61  73  66  63  64  63  19  64  96  59  59  75  51\n",
      " 100  45  67  34  82  62  59  84  80  65  71  35  46  72  70  80  72  61\n",
      "  39  53  80  73  68  73  57  56  46  48  78  62  89  89  65  49  65  71\n",
      "  70  48  75  83  51  77  51  79  73  72  68  74  58  70  52  70  71  79\n",
      "  71  73  89  54  90  88  72  69  61  46  98  47  71  70  83  51  85  56\n",
      "  98  53  47  86  93  62  66  79  56  41  79  70  89  33  78  77  58  66\n",
      "  72  94  58  55  65  72  46  76  67  71  88  72  66  79  73  49  58  72\n",
      "  78  95  87  95  64  71  80  72  64  46  63  83  61  60  47  82  59  49\n",
      "  80  61  72  64  92  59  69  54  74  78  69  57  55  63  89 100  60  76\n",
      "  73  64  40  79  90  71  47  48  78  55  76  91  39  35  60  89  82  44\n",
      "  89  87  45  66  81  79  71  43  79  81  64  91  62  78  90  46  81  65\n",
      "  58  73  73  58  46  77  42  82  64  87  60  33  60  56  73  64  64  81\n",
      "  60  79  76  83  65  76  78  71  73  67  64  48  82  58  74  71  60  81\n",
      "  47  76  55  80  79  59  62  86  89  53  70  71  56  54  64  44  61  52\n",
      "  56  70  69  74  73  71  82  59  50  38  81  39  68  40  80  59  78  63\n",
      "  71  79  42  67  76  84  74  59  57  55  55  32  95  62  72  51  46  84\n",
      "  68  43  73  79  81  66  93  82  78  71  67  51  89  56  67  62  72  81\n",
      "  67  49  64  81  99  51  78  76  64  90  67  76  43  63  82  72  69  54\n",
      "  54  59  66  77  70  61  75  52  77  73  55  75  45  67  57 100  67  78\n",
      "  56  57  83  89 100  75  60  73  81  91  61  59  65  57  57  76  77  91\n",
      "  68 100  57  78  80  42  66  60  67  40  64  56  61  76  90  80  72  68\n",
      "  40  79  77  83  96 100  72  79  80  67  53  66  91  52  97  63  69  65\n",
      "  65  84  79  73  92  60  84  82  44  90  69  72  69  57  93  69  75  45\n",
      "  46  90  66  57  65  87  39  87  77  57  59  74  60  75  95  74  53  56\n",
      "  91  74  47  95  49  66 100  33  99  39  56  36  58  52  59  67  55  40\n",
      "  32  91  31  54  69  55  73  98  60  26  95  76  53  67  80  76  74  67\n",
      "  81  95  58  80  83  52  69  59  62  70  65  61  42  69  76  83  62  42\n",
      "  64  61  69  77  80  93  63 100  88  76  72  84  86  59  77  53  87  72\n",
      "  67  65  84  77  77  77  45  61  61  62  68  62  49  13  55  85  78  69\n",
      "  69  45  67  68  81  73  53  80  56  82  69  76  44  25  82  55  65  79\n",
      "  95  62  80  93  57  54 100  67  47  69  84  50  79  50  48  56  72  47\n",
      "  68  79  74  37  73  92  75  61  56  52  96  59  67  89  50  51  76  80\n",
      "  68  46 100  44  48  67  88  74  82  77  56  96  67  60  63  77  50  44\n",
      "  64  50  82  91  31  67  90  89  61  64  69  78  58  68  64  85  68  63\n",
      "  68  34  77  61  53  80  62  79  83  65  58  73  94  86  76  58  61  58\n",
      "  64  51  82  56  65  76  48  85  68  85  62  75  38  63  68  62  73  65\n",
      "  77  63  83  55  87  95  48  36  84  91  79  51  76  82  71  52  60  64\n",
      "  68  37  67  51  78  75  60  67  51  78  64  59  85  74  40  94  58  68\n",
      "  83  83  68  74  85  65  68  75  52  74  60  51  64  76  45  55  45  86\n",
      "  85  58  72  59  60  70  79  77  77  66  68  65  70  70  55  81  62  81\n",
      "  71  42  62  57  80  78  71  86  76  45  71  64  69  84  65  55  64  84\n",
      "  52  67  77  64  58  72  73  89  83  66]\n",
      "\n",
      "\n",
      "[ 68  81  80  83  64  84  84  48  78  78  69  88  44  78  70  44  71  48\n",
      "  90  75  58  66  72  52  86  90  66  75  78  82  77  90  74  69  41  61\n",
      "  53  77  74  44  87  77  62  49  68  72  53  74 100  74 100  89  81  51\n",
      "  50  49  55  50  69  81  55  92  98  83  43  92  68  83  60  58  61  59\n",
      "  48  63  65  53  67  47  76  65  82  81  72  77  46  64  87  79  79  82\n",
      "  51  73  72  70  66  70  62  63 100  88  31  53  76  56  39  79  75  44\n",
      "  78  48  70  82  86  91  48  84  56  76  86  75  70  80  84  65  49  48\n",
      "  39  56  67  83  76  81  68  56  55  80  79  80  90  84  66  99  71  69\n",
      "  67  85  66 100  77  62  61  85  71  57  61  48  90  74  65  73  83  69\n",
      "  40  77  70  73  86  74  70  95  59  76  64  60  74  92  85  62  78  65\n",
      "  66  58  65  63  70  83  78  87  81  85  58  89  62  68  55  75  87  68\n",
      "  76  75  88  71  64  67  86  49  59  50  74  66  57  59  75  56  67  95\n",
      "  46  94  62  84  53  74  63  78  83  79  68  73  65  74  55  62  76  76\n",
      "  81  88  82  43  71  80  75  33  72  48  65  82  48  33  63  44  94  62\n",
      "  53  85  87  80  41  76  74  63  65  64  49  19  64  84  80  71  72  63\n",
      "  96  48  67  44  80  60  59  80  67  68  71  56  51  64  75  87  74  44\n",
      "  58  64  66  77  66  69  54  54  50  42  78  59  94  91  63  46  68  56\n",
      "  67  45  80  85  57  92  61  86  77  75  74  78  69  65  54  64  70  69\n",
      "  64  76  82  73  76  79  84  70  65  56  96  67  71  61  92  56  80  60\n",
      "  92  71  61  77  97  71  64  77  80  31  97  63  90  34  74  85  60  79\n",
      "  85  82  54  41  58  61  48  74  67  69  87  66  69  77  70  62  65  72\n",
      "  83  84  85  79  71  82  71  65  73  57  70  84  61  76  45  83  55  57\n",
      "  75  76  88  67 100  65  75  64  66  81  75  47  68  62  92  92  66  80\n",
      "  62  55  41  80  96  73  66  65  77  47  63  98  53  41  84  88  72  39\n",
      "  72  79  57  75  87  97  70  39  88  83  52  95  74  80  81  58  67  59\n",
      "  52  66  72  60  46  85  46  88  75  65  63  53  48  47  64  86  71  76\n",
      "  65  89  66  75  82  60  75  85  64  52  62  56  81  59  71  70  79  78\n",
      "  48  80  51  71  81  74  58  99  84  81  68  89  51  55  70  37  59  66\n",
      "  58  66  71  89  79  74  68  55  57  50  77  42  60  47  83  53  82  69\n",
      "  58  75  53  59  77  74  70  54  47  62  86  28 100  70  89  56  47  82\n",
      "  59  43  61  86  77  93  76  99  83  82  73  58  93  69  69  62  77  70\n",
      "  63  45  71  78  90  40  78  84  57  83  63 100  54  66  65  73  76  68\n",
      "  68  56  69  67  89  61  67  57  85  70  71  76  42  68  62 100  51  65\n",
      "  64  65  82  90  98  65  74  85  71  94  63  72  68  64  66  69  79  94\n",
      "  74  75  51  70  82  36  73  71  71  32  80  53  71  79  99  80  83  87\n",
      "  55  83  85  97  85  97  69  72  85  63  53  62  97  66  78  70  66  80\n",
      "  70  81  91  70  82  58  98  76  62  78  61  81  59  65 100  70  75  49\n",
      "  73  92  57  64  49 100  39  85  79  63  60  72  70  76  81  84  53  73\n",
      " 100  69  53  89  47  81 100  44  89  60  41  21  65  59  65  81  50  51\n",
      "  43  92  41  62  87  61  78  98  64  43  89  84  61  73  78  70  87  66\n",
      "  77  86  61  83  86  61  95  65  77  72  79  55  43  91  86  90  77  37\n",
      "  77  54  62  81  84 100  63  97  81  67  56  74  93  72  67  65  81  73\n",
      "  74  69  82  60  61  89  56  77  79  78  68  76  52  19  61  93  74  69\n",
      "  61  65  74  61  78  72  46  90  61  74  86  60  48  32  74  57  65  72\n",
      "  86  68  81  82  70  51 100  63  63  61  70  58  81  52  58  59  64  48\n",
      "  71  87  77  59  58  85  80  60  70  56  89  75  60  98  71  67  72  79\n",
      "  61  59 100  61  57  69  83  58  86  80  65  86  83  75  68  74  50  46\n",
      "  73  52  78  87  40  59  82  93  81  64  69  80  54  60  76  80  64  68\n",
      "  69  46  70  65  58  75  59  75  81  74  60  73 100  93  89  73  63  43\n",
      "  53  69  86  65  67  74  46  90  58  82  71  69  47  65  67  71  82  56\n",
      "  74  75  85  51  97  98  43  49  93  77  70  58  87  78  65  38  63  62\n",
      "  68  53  65  64  85  79  84  76  59  85  47  67  94  81  37  94  47  75\n",
      "  81  73  59  84  82  71  72  66  71  89  60  44  55  87  43  57  66  93\n",
      "  86  62  64  67  56  78  77  83  70  66  70  67  67  72  66  93  70  72\n",
      "  78  58  72  65  81  81  67  83  85  54  72  60  61  75  66  64  64  92\n",
      "  59  50  98  64  52  74  86  87  82  66]\n",
      "\n",
      "\n",
      "[ 63  72  78  79  62  85  83  41  80  77  64  90  45  77  70  46  76  44\n",
      "  85  72  53  66  75  49  84  83  68  66  77  78  74  83  72  65  46  66\n",
      "  50  79  68  46  86  70  61  53  72  75  50  77 100  81 100  87  78  48\n",
      "  50  44  48  43  67  78  58  91  92  78  42  85  73  83  61  58  60  55\n",
      "  48  62  68  59  62  48  74  63  80  79  73  79  45  67  89  77  81  88\n",
      "  53  68  79  77  63  73  60  67 100  79  26  51  80  57  41  78  68  49\n",
      "  76  41  71  77  89  86  55  80  56  74  85  80  73  74  86  56  53  44\n",
      "  41  59  71  81  74  78  67  53  56  75  82  79  99  76  59  96  75  61\n",
      "  56  88  65 100  79  55  61  83  74  59  54  47  82  74  59  74  84  59\n",
      "  43  65  61  78  84  73  73  92  63  72  61  59  70  87  78  65  73  62\n",
      "  69  55  73  63  67  86  78  85  83  80  60  90  56  70  55  80  82  60\n",
      "  78  76  94  75  68  71  85  46  58  46  84  58  57  59  77  63  68  99\n",
      "  48  91  57  80  46  75  59  87  82  79  66  68  66  61  66  63  72  73\n",
      "  77  84  83  42  72  76  76  39  74  43  63  74  52  31  65  45  87  63\n",
      "  51  82  86  76  27  70  79  66  61  62  47  17  65  76  75  66  59  61\n",
      "  93  40  66  43  71  64  55  86  65  70  65  53  49  67  76  95  76  48\n",
      "  60  53  69  78  62  66  51  52  46  42  77  57 100  84  68  48  72  50\n",
      "  72  55  72  77  56  94  67  82  75  80  60  73  74  62  53  69  75  60\n",
      "  58  71  87  74  87  73  78  76  74  55  94  71  76  59  91  57  83  59\n",
      "  93  64  58  79  96  76  64  70  80  33  95  64  92  34  72  81  57  79\n",
      "  84  82  54  45  54  62  49  74  59  63  83  62  72  72  65  65  54  78\n",
      "  82  85  74  83  71  83  77  66  75  52  68  84  67  70  41  91  46  58\n",
      "  67  70  83  64 100  49  77  57  67  80  74  41  67  59  86  88  57  80\n",
      "  58  52  31  84  97  71  62  58  71  41  66 100  51  35  81  94  72  38\n",
      "  82  79  55  75  90  95  65  39  85  86  54  93  69  84  78  58  73  60\n",
      "  44  67  69  55  59  88  42  78  84  68  66  51  43  38  69  90  73  67\n",
      "  57  81  63  80  78  65  74  80  60  60  63  64  72  51  71  63  82  76\n",
      "  39  79  48  70  90  73  58 100  80  75  72  79  52  56  65  45  59  61\n",
      "  47  62  83  90  76  72  69  57  56  40  79  48  57  47  78  45  74  69\n",
      "  59  85  45  54  72  74  75  55  49  53  83  22 100  67  83  46  43  74\n",
      "  64  35  67  87  77  91  74  96  82  78  73  52  91  66  67  71  74  71\n",
      "  61  47  76  85  93  41  81  86  53  91  68  96  48  71  75  72  71  62\n",
      "  67  53  74  63  82  57  69  52  91  73  73  75  36  71  62 100  50  74\n",
      "  60  75  83  83 100  67  71  77  67  95  52  71  74  60  67  79  75  95\n",
      "  69  80  48  61  82  39  70  70  69  32  79  53  59  83 100  80  80  82\n",
      "  56  83  85  88  81  95  63  70  89  59  56  62  95  63  82  69  58  74\n",
      "  66  82  94  70  78  63  91  70  62  79  65  74  56  65 100  70  66  54\n",
      "  72  90  56  65  50  95  38  76  84  76  55  85  70  73  80  83  53  67\n",
      " 100  67  44  96  48  77 100  40  91  55  41  25  63  59  63  77  46  49\n",
      "  46  93  39  58  87  57  77 100  65  34  87  81  63  69  74  70  93  63\n",
      "  81  81  63  87  76  54  89  63  76  79  75  50  36  82  83  85  82  41\n",
      "  82  45  57  88  81  98  61  95  84  71  52  71  90  75  62  63  86  70\n",
      "  77  68  80  67  67  89  60  79  80  78  70  72  43  14  54  92  71  65\n",
      "  58  56  67  64  81  55  45  86  52  75  81  62  42  21  72  55  66  69\n",
      "  86  67  78  85  66  47 100  63  62  61  69  57  76  52  47  51  61  45\n",
      "  59  81  65  53  61  90  74  62  67  50  84  70  52  92  65  65  67  72\n",
      "  66  62  99  62  53  57  78  56  87  79  63  87  86  75  70  60  49  41\n",
      "  78  58  75  89  34  60  80  85  73  58  69  74  52  58  79  86  61  68\n",
      "  67  48  65  73  57  73  57  80  85  81  61  69 100  99  92  72  57  44\n",
      "  59  62  93  64  57  72  40  85  60  83  63  74  44  61  74  68  78  50\n",
      "  70  68  82  46  96 100  44  41  95  79  67  52  87  75  61  42  60  57\n",
      "  64  52  68  58  93  75  77  66  63  90  43  65  95  86  31  95  52  63\n",
      "  87  70  59  84  79  77  75  66  69  85  63  50  58  80  47  55  61  87\n",
      "  77  54  66  68  54  69  74  81  72  61  76  63  64  73  62  92  69  70\n",
      "  65  53  74  61  80  85  62  80  83  56  76  52  51  74  57  63  61  87\n",
      "  60  54  89  67  56  70  90  94  78  72]\n"
     ]
    }
   ],
   "source": [
    "math = data['Math'].values\n",
    "read = data['Reading'].values\n",
    "write = data['Writing'].values\n",
    "print(math)\n",
    "print('\\n')\n",
    "print(read)\n",
    "print('\\n')\n",
    "print(write)"
   ]
  },
  {
   "cell_type": "code",
   "execution_count": 4,
   "metadata": {},
   "outputs": [
    {
     "data": {
      "text/plain": [
       "(1000,)"
      ]
     },
     "execution_count": 4,
     "metadata": {},
     "output_type": "execute_result"
    }
   ],
   "source": [
    "math.shape"
   ]
  },
  {
   "cell_type": "code",
   "execution_count": 5,
   "metadata": {},
   "outputs": [
    {
     "data": {
      "image/png": "[encoded data removed]",
      "text/plain": [
       "<Figure size 432x288 with 1 Axes>"
      ]
     },
     "metadata": {},
     "output_type": "display_data"
    }
   ],
   "source": [
    "# Plotting the scores as scatter plot\n",
    "fig = plt.figure()\n",
    "ax = Axes3D(fig)\n",
    "ax.scatter(math, read, write, color='#ef1234')\n",
    "plt.show()"
   ]
  },
  {
   "cell_type": "code",
   "execution_count": 6,
   "metadata": {},
   "outputs": [
    {
     "name": "stdout",
     "output_type": "stream",
     "text": [
      "[1. 1. 1. 1. 1. 1. 1. 1. 1. 1. 1. 1. 1. 1. 1. 1. 1. 1. 1. 1. 1. 1. 1. 1.\n",
      " 1. 1. 1. 1. 1. 1. 1. 1. 1. 1. 1. 1. 1. 1. 1. 1. 1. 1. 1. 1. 1. 1. 1. 1.\n",
      " 1. 1. 1. 1. 1. 1. 1. 1. 1. 1. 1. 1. 1. 1. 1. 1. 1. 1. 1. 1. 1. 1. 1. 1.\n",
      " 1. 1. 1. 1. 1. 1. 1. 1. 1. 1. 1. 1. 1. 1. 1. 1. 1. 1. 1. 1. 1. 1. 1. 1.\n",
      " 1. 1. 1. 1. 1. 1. 1. 1. 1. 1. 1. 1. 1. 1. 1. 1. 1. 1. 1. 1. 1. 1. 1. 1.\n",
      " 1. 1. 1. 1. 1. 1. 1. 1. 1. 1. 1. 1. 1. 1. 1. 1. 1. 1. 1. 1. 1. 1. 1. 1.\n",
      " 1. 1. 1. 1. 1. 1. 1. 1. 1. 1. 1. 1. 1. 1. 1. 1. 1. 1. 1. 1. 1. 1. 1. 1.\n",
      " 1. 1. 1. 1. 1. 1. 1. 1. 1. 1. 1. 1. 1. 1. 1. 1. 1. 1. 1. 1. 1. 1. 1. 1.\n",
      " 1. 1. 1. 1. 1. 1. 1. 1. 1. 1. 1. 1. 1. 1. 1. 1. 1. 1. 1. 1. 1. 1. 1. 1.\n",
      " 1. 1. 1. 1. 1. 1. 1. 1. 1. 1. 1. 1. 1. 1. 1. 1. 1. 1. 1. 1. 1. 1. 1. 1.\n",
      " 1. 1. 1. 1. 1. 1. 1. 1. 1. 1. 1. 1. 1. 1. 1. 1. 1. 1. 1. 1. 1. 1. 1. 1.\n",
      " 1. 1. 1. 1. 1. 1. 1. 1. 1. 1. 1. 1. 1. 1. 1. 1. 1. 1. 1. 1. 1. 1. 1. 1.\n",
      " 1. 1. 1. 1. 1. 1. 1. 1. 1. 1. 1. 1. 1. 1. 1. 1. 1. 1. 1. 1. 1. 1. 1. 1.\n",
      " 1. 1. 1. 1. 1. 1. 1. 1. 1. 1. 1. 1. 1. 1. 1. 1. 1. 1. 1. 1. 1. 1. 1. 1.\n",
      " 1. 1. 1. 1. 1. 1. 1. 1. 1. 1. 1. 1. 1. 1. 1. 1. 1. 1. 1. 1. 1. 1. 1. 1.\n",
      " 1. 1. 1. 1. 1. 1. 1. 1. 1. 1. 1. 1. 1. 1. 1. 1. 1. 1. 1. 1. 1. 1. 1. 1.\n",
      " 1. 1. 1. 1. 1. 1. 1. 1. 1. 1. 1. 1. 1. 1. 1. 1. 1. 1. 1. 1. 1. 1. 1. 1.\n",
      " 1. 1. 1. 1. 1. 1. 1. 1. 1. 1. 1. 1. 1. 1. 1. 1. 1. 1. 1. 1. 1. 1. 1. 1.\n",
      " 1. 1. 1. 1. 1. 1. 1. 1. 1. 1. 1. 1. 1. 1. 1. 1. 1. 1. 1. 1. 1. 1. 1. 1.\n",
      " 1. 1. 1. 1. 1. 1. 1. 1. 1. 1. 1. 1. 1. 1. 1. 1. 1. 1. 1. 1. 1. 1. 1. 1.\n",
      " 1. 1. 1. 1. 1. 1. 1. 1. 1. 1. 1. 1. 1. 1. 1. 1. 1. 1. 1. 1. 1. 1. 1. 1.\n",
      " 1. 1. 1. 1. 1. 1. 1. 1. 1. 1. 1. 1. 1. 1. 1. 1. 1. 1. 1. 1. 1. 1. 1. 1.\n",
      " 1. 1. 1. 1. 1. 1. 1. 1. 1. 1. 1. 1. 1. 1. 1. 1. 1. 1. 1. 1. 1. 1. 1. 1.\n",
      " 1. 1. 1. 1. 1. 1. 1. 1. 1. 1. 1. 1. 1. 1. 1. 1. 1. 1. 1. 1. 1. 1. 1. 1.\n",
      " 1. 1. 1. 1. 1. 1. 1. 1. 1. 1. 1. 1. 1. 1. 1. 1. 1. 1. 1. 1. 1. 1. 1. 1.\n",
      " 1. 1. 1. 1. 1. 1. 1. 1. 1. 1. 1. 1. 1. 1. 1. 1. 1. 1. 1. 1. 1. 1. 1. 1.\n",
      " 1. 1. 1. 1. 1. 1. 1. 1. 1. 1. 1. 1. 1. 1. 1. 1. 1. 1. 1. 1. 1. 1. 1. 1.\n",
      " 1. 1. 1. 1. 1. 1. 1. 1. 1. 1. 1. 1. 1. 1. 1. 1. 1. 1. 1. 1. 1. 1. 1. 1.\n",
      " 1. 1. 1. 1. 1. 1. 1. 1. 1. 1. 1. 1. 1. 1. 1. 1. 1. 1. 1. 1. 1. 1. 1. 1.\n",
      " 1. 1. 1. 1. 1. 1. 1. 1. 1. 1. 1. 1. 1. 1. 1. 1. 1. 1. 1. 1. 1. 1. 1. 1.\n",
      " 1. 1. 1. 1. 1. 1. 1. 1. 1. 1. 1. 1. 1. 1. 1. 1. 1. 1. 1. 1. 1. 1. 1. 1.\n",
      " 1. 1. 1. 1. 1. 1. 1. 1. 1. 1. 1. 1. 1. 1. 1. 1. 1. 1. 1. 1. 1. 1. 1. 1.\n",
      " 1. 1. 1. 1. 1. 1. 1. 1. 1. 1. 1. 1. 1. 1. 1. 1. 1. 1. 1. 1. 1. 1. 1. 1.\n",
      " 1. 1. 1. 1. 1. 1. 1. 1. 1. 1. 1. 1. 1. 1. 1. 1. 1. 1. 1. 1. 1. 1. 1. 1.\n",
      " 1. 1. 1. 1. 1. 1. 1. 1. 1. 1. 1. 1. 1. 1. 1. 1. 1. 1. 1. 1. 1. 1. 1. 1.\n",
      " 1. 1. 1. 1. 1. 1. 1. 1. 1. 1. 1. 1. 1. 1. 1. 1. 1. 1. 1. 1. 1. 1. 1. 1.\n",
      " 1. 1. 1. 1. 1. 1. 1. 1. 1. 1. 1. 1. 1. 1. 1. 1. 1. 1. 1. 1. 1. 1. 1. 1.\n",
      " 1. 1. 1. 1. 1. 1. 1. 1. 1. 1. 1. 1. 1. 1. 1. 1. 1. 1. 1. 1. 1. 1. 1. 1.\n",
      " 1. 1. 1. 1. 1. 1. 1. 1. 1. 1. 1. 1. 1. 1. 1. 1. 1. 1. 1. 1. 1. 1. 1. 1.\n",
      " 1. 1. 1. 1. 1. 1. 1. 1. 1. 1. 1. 1. 1. 1. 1. 1. 1. 1. 1. 1. 1. 1. 1. 1.\n",
      " 1. 1. 1. 1. 1. 1. 1. 1. 1. 1. 1. 1. 1. 1. 1. 1. 1. 1. 1. 1. 1. 1. 1. 1.\n",
      " 1. 1. 1. 1. 1. 1. 1. 1. 1. 1. 1. 1. 1. 1. 1. 1.]\n",
      "\n",
      "\n",
      "[[ 1. 48. 68.]\n",
      " [ 1. 62. 81.]\n",
      " [ 1. 79. 80.]\n",
      " ...\n",
      " [ 1. 89. 87.]\n",
      " [ 1. 83. 82.]\n",
      " [ 1. 66. 66.]]\n"
     ]
    }
   ],
   "source": [
    "m = len(math)\n",
    "x0 = np.ones(m)\n",
    "print(x0)\n",
    "X = np.array([x0, math, read]).T\n",
    "print('\\n')\n",
    "print(X)"
   ]
  },
  {
   "cell_type": "code",
   "execution_count": 7,
   "metadata": {},
   "outputs": [
    {
     "name": "stdout",
     "output_type": "stream",
     "text": [
      "[0 0 0]\n",
      "\n",
      "\n",
      "[ 63  72  78  79  62  85  83  41  80  77  64  90  45  77  70  46  76  44\n",
      "  85  72  53  66  75  49  84  83  68  66  77  78  74  83  72  65  46  66\n",
      "  50  79  68  46  86  70  61  53  72  75  50  77 100  81 100  87  78  48\n",
      "  50  44  48  43  67  78  58  91  92  78  42  85  73  83  61  58  60  55\n",
      "  48  62  68  59  62  48  74  63  80  79  73  79  45  67  89  77  81  88\n",
      "  53  68  79  77  63  73  60  67 100  79  26  51  80  57  41  78  68  49\n",
      "  76  41  71  77  89  86  55  80  56  74  85  80  73  74  86  56  53  44\n",
      "  41  59  71  81  74  78  67  53  56  75  82  79  99  76  59  96  75  61\n",
      "  56  88  65 100  79  55  61  83  74  59  54  47  82  74  59  74  84  59\n",
      "  43  65  61  78  84  73  73  92  63  72  61  59  70  87  78  65  73  62\n",
      "  69  55  73  63  67  86  78  85  83  80  60  90  56  70  55  80  82  60\n",
      "  78  76  94  75  68  71  85  46  58  46  84  58  57  59  77  63  68  99\n",
      "  48  91  57  80  46  75  59  87  82  79  66  68  66  61  66  63  72  73\n",
      "  77  84  83  42  72  76  76  39  74  43  63  74  52  31  65  45  87  63\n",
      "  51  82  86  76  27  70  79  66  61  62  47  17  65  76  75  66  59  61\n",
      "  93  40  66  43  71  64  55  86  65  70  65  53  49  67  76  95  76  48\n",
      "  60  53  69  78  62  66  51  52  46  42  77  57 100  84  68  48  72  50\n",
      "  72  55  72  77  56  94  67  82  75  80  60  73  74  62  53  69  75  60\n",
      "  58  71  87  74  87  73  78  76  74  55  94  71  76  59  91  57  83  59\n",
      "  93  64  58  79  96  76  64  70  80  33  95  64  92  34  72  81  57  79\n",
      "  84  82  54  45  54  62  49  74  59  63  83  62  72  72  65  65  54  78\n",
      "  82  85  74  83  71  83  77  66  75  52  68  84  67  70  41  91  46  58\n",
      "  67  70  83  64 100  49  77  57  67  80  74  41  67  59  86  88  57  80\n",
      "  58  52  31  84  97  71  62  58  71  41  66 100  51  35  81  94  72  38\n",
      "  82  79  55  75  90  95  65  39  85  86  54  93  69  84  78  58  73  60\n",
      "  44  67  69  55  59  88  42  78  84  68  66  51  43  38  69  90  73  67\n",
      "  57  81  63  80  78  65  74  80  60  60  63  64  72  51  71  63  82  76\n",
      "  39  79  48  70  90  73  58 100  80  75  72  79  52  56  65  45  59  61\n",
      "  47  62  83  90  76  72  69  57  56  40  79  48  57  47  78  45  74  69\n",
      "  59  85  45  54  72  74  75  55  49  53  83  22 100  67  83  46  43  74\n",
      "  64  35  67  87  77  91  74  96  82  78  73  52  91  66  67  71  74  71\n",
      "  61  47  76  85  93  41  81  86  53  91  68  96  48  71  75  72  71  62\n",
      "  67  53  74  63  82  57  69  52  91  73  73  75  36  71  62 100  50  74\n",
      "  60  75  83  83 100  67  71  77  67  95  52  71  74  60  67  79  75  95\n",
      "  69  80  48  61  82  39  70  70  69  32  79  53  59  83 100  80  80  82\n",
      "  56  83  85  88  81  95  63  70  89  59  56  62  95  63  82  69  58  74\n",
      "  66  82  94  70  78  63  91  70  62  79  65  74  56  65 100  70  66  54\n",
      "  72  90  56  65  50  95  38  76  84  76  55  85  70  73  80  83  53  67\n",
      " 100  67  44  96  48  77 100  40  91  55  41  25  63  59  63  77  46  49\n",
      "  46  93  39  58  87  57  77 100  65  34  87  81  63  69  74  70  93  63\n",
      "  81  81  63  87  76  54  89  63  76  79  75  50  36  82  83  85  82  41\n",
      "  82  45  57  88  81  98  61  95  84  71  52  71  90  75  62  63  86  70\n",
      "  77  68  80  67  67  89  60  79  80  78  70  72  43  14  54  92  71  65\n",
      "  58  56  67  64  81  55  45  86  52  75  81  62  42  21  72  55  66  69\n",
      "  86  67  78  85  66  47 100  63  62  61  69  57  76  52  47  51  61  45\n",
      "  59  81  65  53  61  90  74  62  67  50  84  70  52  92  65  65  67  72\n",
      "  66  62  99  62  53  57  78  56  87  79  63  87  86  75  70  60  49  41\n",
      "  78  58  75  89  34  60  80  85  73  58  69  74  52  58  79  86  61  68\n",
      "  67  48  65  73  57  73  57  80  85  81  61  69 100  99  92  72  57  44\n",
      "  59  62  93  64  57  72  40  85  60  83  63  74  44  61  74  68  78  50\n",
      "  70  68  82  46  96 100  44  41  95  79  67  52  87  75  61  42  60  57\n",
      "  64  52  68  58  93  75  77  66  63  90  43  65  95  86  31  95  52  63\n",
      "  87  70  59  84  79  77  75  66  69  85  63  50  58  80  47  55  61  87\n",
      "  77  54  66  68  54  69  74  81  72  61  76  63  64  73  62  92  69  70\n",
      "  65  53  74  61  80  85  62  80  83  56  76  52  51  74  57  63  61  87\n",
      "  60  54  89  67  56  70  90  94  78  72]\n"
     ]
    }
   ],
   "source": [
    "# Initial Coefficients\n",
    "B = np.array([0, 0, 0])\n",
    "print(B)\n",
    "Y = np.array(write)\n",
    "print('\\n')\n",
    "print(Y)\n",
    "alpha = 0.0001"
   ]
  },
  {
   "cell_type": "code",
   "execution_count": 8,
   "metadata": {},
   "outputs": [],
   "source": [
    "def cost_function(X, Y, B):\n",
    "    m = len(Y)\n",
    "    J = np.sum((X.dot(B) - Y) ** 2)/(2 * m)\n",
    "    return J"
   ]
  },
  {
   "cell_type": "code",
   "execution_count": 9,
   "metadata": {},
   "outputs": [
    {
     "name": "stdout",
     "output_type": "stream",
     "text": [
      "Initial Cost\n",
      "2470.11\n"
     ]
    }
   ],
   "source": [
    "inital_cost = cost_function(X, Y, B)\n",
    "print(\"Initial Cost\")\n",
    "print(inital_cost)"
   ]
  },
  {
   "cell_type": "code",
   "execution_count": 10,
   "metadata": {},
   "outputs": [],
   "source": [
    "def gradient_descent(X, Y, B, alpha, iterations):\n",
    "    cost_history = [0] * iterations\n",
    "    m = len(Y)\n",
    "    \n",
    "    for iteration in range(iterations):\n",
    "        # Hypothesis Values\n",
    "        h = X.dot(B)\n",
    "        # Difference b/w Hypothesis and Actual Y\n",
    "        loss = h - Y\n",
    "        # Gradient Calculation\n",
    "        gradient = X.T.dot(loss) / m\n",
    "        # Changing Values of B using Gradient\n",
    "        B = B - alpha * gradient\n",
    "        # New Cost Value\n",
    "        cost = cost_function(X, Y, B)\n",
    "        cost_history[iteration] = cost\n",
    "        \n",
    "    return B, cost_history, gradient"
   ]
  },
  {
   "cell_type": "code",
   "execution_count": 11,
   "metadata": {},
   "outputs": [],
   "source": [
    "newB, cost_history, gradient = gradient_descent(X, Y, B, alpha, 100000)"
   ]
  },
  {
   "cell_type": "code",
   "execution_count": 12,
   "metadata": {},
   "outputs": [
    {
     "name": "stdout",
     "output_type": "stream",
     "text": [
      "newB: [-0.47889172  0.09137252  0.90144884], cost: 10.475123473539169\n"
     ]
    }
   ],
   "source": [
    "print(f'newB: {newB}, cost: {cost_history[-1]}')"
   ]
  },
  {
   "cell_type": "code",
   "execution_count": 13,
   "metadata": {},
   "outputs": [],
   "source": [
    "# Model Evaluation - RMSE\n",
    "def rmse(Y, Y_pred):\n",
    "    rmse = np.sqrt(sum((Y - Y_pred) ** 2) / len(Y))\n",
    "    return rmse"
   ]
  },
  {
   "cell_type": "code",
   "execution_count": 14,
   "metadata": {},
   "outputs": [],
   "source": [
    "# Model Evaluation - R2 Score\n",
    "def r2_score(Y, Y_pred):\n",
    "    mean_y = np.mean(Y)\n",
    "    ss_tot = sum((Y - mean_y) ** 2)\n",
    "    ss_res = sum((Y - Y_pred) ** 2)\n",
    "    r2 = 1 - (ss_res / ss_tot)\n",
    "    return r2"
   ]
  },
  {
   "cell_type": "code",
   "execution_count": 15,
   "metadata": {},
   "outputs": [],
   "source": [
    "Y_pred = X.dot(newB)"
   ]
  },
  {
   "cell_type": "code",
   "execution_count": 16,
   "metadata": {},
   "outputs": [
    {
     "name": "stdout",
     "output_type": "stream",
     "text": [
      "RMSE\n",
      "4.577143972727789\n",
      "R2 Score\n",
      "0.9097223273061553\n"
     ]
    }
   ],
   "source": [
    "print(\"RMSE\")\n",
    "print(rmse(Y, Y_pred))\n",
    "print(\"R2 Score\")\n",
    "print(r2_score(Y, Y_pred))"
   ]
  }
 ],
 "metadata": {
  "kernelspec": {
   "display_name": "Python 3",
   "language": "python",
   "name": "python3"
  },
  "language_info": {
   "codemirror_mode": {
    "name": "ipython",
    "version": 3
   },
   "file_extension": ".py",
   "mimetype": "text/x-python",
   "name": "python",
   "nbconvert_exporter": "python",
   "pygments_lexer": "ipython3",
   "version": "3.6.5"
  }
 },
 "nbformat": 4,
 "nbformat_minor": 2
}
