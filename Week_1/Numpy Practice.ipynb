{
 "cells": [
  {
   "cell_type": "markdown",
   "metadata": {},
   "source": [
    "MATRIX AND VECTOR"
   ]
  },
  {
   "cell_type": "code",
   "execution_count": 1,
   "metadata": {},
   "outputs": [],
   "source": [
    "import numpy as np "
   ]
  },
  {
   "cell_type": "code",
   "execution_count": 2,
   "metadata": {},
   "outputs": [],
   "source": [
    "M = np.array([[1,2,3],[4,5,6],[7,8,9]])"
   ]
  },
  {
   "cell_type": "code",
   "execution_count": 3,
   "metadata": {},
   "outputs": [
    {
     "data": {
      "text/plain": [
       "array([[1, 2, 3],\n",
       "       [4, 5, 6],\n",
       "       [7, 8, 9]])"
      ]
     },
     "execution_count": 3,
     "metadata": {},
     "output_type": "execute_result"
    }
   ],
   "source": [
    "M"
   ]
  },
  {
   "cell_type": "code",
   "execution_count": 4,
   "metadata": {},
   "outputs": [],
   "source": [
    "v = np.array([[1],[2],[3]])"
   ]
  },
  {
   "cell_type": "code",
   "execution_count": 5,
   "metadata": {},
   "outputs": [
    {
     "data": {
      "text/plain": [
       "array([[1],\n",
       "       [2],\n",
       "       [3]])"
      ]
     },
     "execution_count": 5,
     "metadata": {},
     "output_type": "execute_result"
    }
   ],
   "source": [
    "v"
   ]
  },
  {
   "cell_type": "code",
   "execution_count": 6,
   "metadata": {},
   "outputs": [
    {
     "data": {
      "text/plain": [
       "dtype('int32')"
      ]
     },
     "execution_count": 6,
     "metadata": {},
     "output_type": "execute_result"
    }
   ],
   "source": [
    "M.dtype"
   ]
  },
  {
   "cell_type": "code",
   "execution_count": 7,
   "metadata": {},
   "outputs": [
    {
     "data": {
      "text/plain": [
       "(3, 3)"
      ]
     },
     "execution_count": 7,
     "metadata": {},
     "output_type": "execute_result"
    }
   ],
   "source": [
    "M.shape"
   ]
  },
  {
   "cell_type": "code",
   "execution_count": 8,
   "metadata": {},
   "outputs": [
    {
     "data": {
      "text/plain": [
       "dtype('int32')"
      ]
     },
     "execution_count": 8,
     "metadata": {},
     "output_type": "execute_result"
    }
   ],
   "source": [
    "v.dtype"
   ]
  },
  {
   "cell_type": "code",
   "execution_count": 9,
   "metadata": {},
   "outputs": [
    {
     "data": {
      "text/plain": [
       "(3, 1)"
      ]
     },
     "execution_count": 9,
     "metadata": {},
     "output_type": "execute_result"
    }
   ],
   "source": [
    "v.shape"
   ]
  },
  {
   "cell_type": "code",
   "execution_count": 10,
   "metadata": {},
   "outputs": [],
   "source": [
    "v_single_dim = np.array([1,2,3])"
   ]
  },
  {
   "cell_type": "code",
   "execution_count": 11,
   "metadata": {},
   "outputs": [
    {
     "data": {
      "text/plain": [
       "array([1, 2, 3])"
      ]
     },
     "execution_count": 11,
     "metadata": {},
     "output_type": "execute_result"
    }
   ],
   "source": [
    "v_single_dim"
   ]
  },
  {
   "cell_type": "code",
   "execution_count": 14,
   "metadata": {},
   "outputs": [
    {
     "data": {
      "text/plain": [
       "(3,)"
      ]
     },
     "execution_count": 14,
     "metadata": {},
     "output_type": "execute_result"
    }
   ],
   "source": [
    "v_single_dim.shape"
   ]
  },
  {
   "cell_type": "code",
   "execution_count": 15,
   "metadata": {},
   "outputs": [
    {
     "name": "stdout",
     "output_type": "stream",
     "text": [
      "[[2]\n",
      " [4]\n",
      " [6]]\n"
     ]
    }
   ],
   "source": [
    "print(v + v)"
   ]
  },
  {
   "cell_type": "code",
   "execution_count": 16,
   "metadata": {},
   "outputs": [
    {
     "name": "stdout",
     "output_type": "stream",
     "text": [
      "[[3]\n",
      " [6]\n",
      " [9]]\n"
     ]
    }
   ],
   "source": [
    "print(3 * v)"
   ]
  },
  {
   "cell_type": "code",
   "execution_count": 19,
   "metadata": {},
   "outputs": [
    {
     "name": "stdout",
     "output_type": "stream",
     "text": [
      "[[0. 0.]\n",
      " [0. 0.]]\n",
      "[[1. 1.]]\n",
      "[[7 7]\n",
      " [7 7]]\n",
      "[[1. 0.]\n",
      " [0. 1.]]\n",
      "[[0.44310508 0.18933884]\n",
      " [0.694976   0.85770847]]\n"
     ]
    }
   ],
   "source": [
    "a = np.zeros((2,2)) # Create an array of all zeros\n",
    "print(a)            # Prints\"[[0. 0.]\n",
    "                    #         [0. 0.]]\"\n",
    "\n",
    "b = np.ones((1,2))  # Create an array of all ones\n",
    "print(b)            # Prints \"[[1. 1.]]\"\n",
    "\n",
    "c = np.full((2,2), 7) # Create a constant array \n",
    "print(c)              # Prints \"[[7. 7.]\n",
    "                      #          [7. 7.]]\"\n",
    "\n",
    "d = np.eye(2)       # Create a 2x3 identity matrix\n",
    "print(d)            # Prints \"[[1. 0.]\n",
    "                    #          [0. 1.]]\"\n",
    "\n",
    "e = np.random.random((2,2)) # Create an array filled with random values\n",
    "                            # Might print \"[[ 0.91940167  0.08143941]\n",
    "                            #               [ 0.68744134  0.87236687]]\"\n",
    "print(e)"
   ]
  },
  {
   "cell_type": "code",
   "execution_count": 20,
   "metadata": {},
   "outputs": [
    {
     "name": "stdout",
     "output_type": "stream",
     "text": [
      "[[1 2 3]\n",
      " [4 5 6]\n",
      " [7 8 9]]\n"
     ]
    }
   ],
   "source": [
    "v1 = np.array([1,2,3])\n",
    "v2 = np.array([4,5,6])\n",
    "v3 = np.array([7,8,9])\n",
    "M = np.vstack([v1, v2, v3])\n",
    "print(M)\n",
    "\n",
    "# There is also a way to do this horizontally => hstack"
   ]
  },
  {
   "cell_type": "code",
   "execution_count": 26,
   "metadata": {},
   "outputs": [],
   "source": [
    "arr = np.array([[0,1,2,3,4],[5,6,7,8,9],[10,11,12,13,14]])"
   ]
  },
  {
   "cell_type": "code",
   "execution_count": 27,
   "metadata": {},
   "outputs": [
    {
     "data": {
      "text/plain": [
       "array([[ 0,  1,  2,  3,  4],\n",
       "       [ 5,  6,  7,  8,  9],\n",
       "       [10, 11, 12, 13, 14]])"
      ]
     },
     "execution_count": 27,
     "metadata": {},
     "output_type": "execute_result"
    }
   ],
   "source": [
    "arr"
   ]
  },
  {
   "cell_type": "code",
   "execution_count": 28,
   "metadata": {},
   "outputs": [
    {
     "data": {
      "text/plain": [
       "array([[0, 1, 2, 3, 4],\n",
       "       [5, 6, 7, 8, 9]])"
      ]
     },
     "execution_count": 28,
     "metadata": {},
     "output_type": "execute_result"
    }
   ],
   "source": [
    "arr[0:2,:]"
   ]
  },
  {
   "cell_type": "code",
   "execution_count": 29,
   "metadata": {},
   "outputs": [
    {
     "data": {
      "text/plain": [
       "array([11, 12, 13, 14])"
      ]
     },
     "execution_count": 29,
     "metadata": {},
     "output_type": "execute_result"
    }
   ],
   "source": [
    "arr[2,1:]"
   ]
  },
  {
   "cell_type": "code",
   "execution_count": 32,
   "metadata": {},
   "outputs": [
    {
     "data": {
      "text/plain": [
       "array([[2, 3],\n",
       "       [7, 8]])"
      ]
     },
     "execution_count": 32,
     "metadata": {},
     "output_type": "execute_result"
    }
   ],
   "source": [
    "arr[:2,2:4]"
   ]
  },
  {
   "cell_type": "code",
   "execution_count": 33,
   "metadata": {},
   "outputs": [
    {
     "data": {
      "text/plain": [
       "array([[ 0,  2,  4],\n",
       "       [ 5,  7,  9],\n",
       "       [10, 12, 14]])"
      ]
     },
     "execution_count": 33,
     "metadata": {},
     "output_type": "execute_result"
    }
   ],
   "source": [
    "arr[:,::2]"
   ]
  },
  {
   "cell_type": "code",
   "execution_count": 34,
   "metadata": {},
   "outputs": [
    {
     "data": {
      "text/plain": [
       "array([[ 0,  3],\n",
       "       [10, 13]])"
      ]
     },
     "execution_count": 34,
     "metadata": {},
     "output_type": "execute_result"
    }
   ],
   "source": [
    "arr[::2,::3]"
   ]
  },
  {
   "cell_type": "markdown",
   "metadata": {},
   "source": [
    "Matrix Reshape"
   ]
  },
  {
   "cell_type": "code",
   "execution_count": 36,
   "metadata": {},
   "outputs": [
    {
     "name": "stdout",
     "output_type": "stream",
     "text": [
      "[ 0  1  2  3  4  5  6  7  8  9 10 11 12 13 14]\n",
      "[[ 0  1  2]\n",
      " [ 3  4  5]\n",
      " [ 6  7  8]\n",
      " [ 9 10 11]\n",
      " [12 13 14]]\n"
     ]
    }
   ],
   "source": [
    "import numpy as np\n",
    "m = np.array([0,1,2,3,4,5,6,7,8,9,10,11,12,13,14])\n",
    "print(m)\n",
    "rm = m.reshape((5,3))\n",
    "print(rm)"
   ]
  },
  {
   "cell_type": "code",
   "execution_count": 37,
   "metadata": {},
   "outputs": [
    {
     "name": "stdout",
     "output_type": "stream",
     "text": [
      "[[1 0]\n",
      " [2 5]\n",
      " [3 1]]\n",
      "[[4.  0.5]\n",
      " [2.  5. ]\n",
      " [0.  1. ]]\n",
      "[[ 5.   0.5]\n",
      " [ 4.  10. ]\n",
      " [ 3.   2. ]]\n"
     ]
    }
   ],
   "source": [
    "b = np.array([[1,0],[2,5],[3,1]])\n",
    "c = np.array([[4,0.5],[2,5],[0,1]])\n",
    "print(b)\n",
    "print(c)\n",
    "d = b+c\n",
    "print(d)"
   ]
  },
  {
   "cell_type": "code",
   "execution_count": 38,
   "metadata": {},
   "outputs": [
    {
     "name": "stdout",
     "output_type": "stream",
     "text": [
      "[[4 3]\n",
      " [5 8]\n",
      " [6 4]]\n",
      "[[ 3  0]\n",
      " [ 6 15]\n",
      " [ 9  3]]\n"
     ]
    }
   ],
   "source": [
    "a = np.array([[1,0],[2,5],[3,1]])\n",
    "add_a_3=a+3\n",
    "print(add_a_3)\n",
    "mul_a_3=a*3\n",
    "print(mul_a_3)"
   ]
  },
  {
   "cell_type": "code",
   "execution_count": 39,
   "metadata": {},
   "outputs": [
    {
     "name": "stdout",
     "output_type": "stream",
     "text": [
      "[[1]\n",
      " [4]\n",
      " [2]]\n",
      "[[0]\n",
      " [0]\n",
      " [5]]\n",
      "[[3]\n",
      " [0]\n",
      " [2]]\n",
      "[[ 2.        ]\n",
      " [12.        ]\n",
      " [10.33333333]]\n"
     ]
    }
   ],
   "source": [
    "e = np.array([[1],[4],[2]])\n",
    "f = np.array([[0],[0],[5]])\n",
    "g = np.array([[3],[0],[2]])\n",
    "\n",
    "h=3 * e + f - g /3\n",
    "print(e)\n",
    "print(f)\n",
    "print(g)\n",
    "print(h)"
   ]
  },
  {
   "cell_type": "code",
   "execution_count": 40,
   "metadata": {},
   "outputs": [
    {
     "name": "stdout",
     "output_type": "stream",
     "text": [
      "[[1 3]\n",
      " [4 0]\n",
      " [2 1]]\n",
      "[[1]\n",
      " [5]]\n",
      "[[16]\n",
      " [ 4]\n",
      " [ 7]]\n"
     ]
    }
   ],
   "source": [
    "h = np.array([[1,3],[4,0],[2,1]]) # 3x2\n",
    "i = np.array([[1],[5]]) # 2x1\n",
    "\n",
    "dot_h_i = np.dot(h,i)\n",
    "print(h)\n",
    "print(i)\n",
    "print(dot_h_i)"
   ]
  },
  {
   "cell_type": "code",
   "execution_count": 45,
   "metadata": {},
   "outputs": [
    {
     "name": "stdout",
     "output_type": "stream",
     "text": [
      "[[1 3 2]\n",
      " [4 0 1]]\n",
      "[[1 3]\n",
      " [0 1]\n",
      " [5 2]]\n",
      "[[11 10]\n",
      " [ 9 14]]\n"
     ]
    }
   ],
   "source": [
    "l = np.array([[1,3,2],[4,0,1]])\n",
    "m = np.array([[1,3],[0,1],[5,2]])\n",
    "dot_l_m = np.dot(l,m)\n",
    "print(l)\n",
    "print(m)\n",
    "print(dot_l_m)"
   ]
  },
  {
   "cell_type": "code",
   "execution_count": 46,
   "metadata": {},
   "outputs": [
    {
     "name": "stdout",
     "output_type": "stream",
     "text": [
      "[[4 2 1]\n",
      " [4 8 3]\n",
      " [1 1 0]]\n",
      "[[1 0 0]\n",
      " [0 1 0]\n",
      " [0 0 1]]\n",
      "[[4 2 1]\n",
      " [4 8 3]\n",
      " [1 1 0]]\n",
      "[[4 2 1]\n",
      " [4 8 3]\n",
      " [1 1 0]]\n"
     ]
    }
   ],
   "source": [
    "A = np.array([[4,2,1],[4,8,3],[1,1,0]])\n",
    "I = np.identity(3, dtype=int)\n",
    "dot_A_I = np.dot(A,I)\n",
    "dot_I_A = np.dot(I,A)\n",
    "print(A)\n",
    "print(I)\n",
    "print(dot_A_I)\n",
    "print(dot_I_A)"
   ]
  },
  {
   "cell_type": "code",
   "execution_count": 51,
   "metadata": {},
   "outputs": [
    {
     "name": "stdout",
     "output_type": "stream",
     "text": [
      "[[4 2 1]\n",
      " [4 8 3]\n",
      " [1 1 0]]\n",
      "[[ 0.3 -0.1  0.2]\n",
      " [-0.3  0.1  0.8]\n",
      " [ 0.4  0.2 -2.4]]\n"
     ]
    }
   ],
   "source": [
    "A = np.array([[4,2,1],[4,8,3],[1,1,0]])\n",
    "inv_A=np.linalg.inv(A)\n",
    "print(A)\n",
    "print(inv_A)"
   ]
  },
  {
   "cell_type": "code",
   "execution_count": 55,
   "metadata": {},
   "outputs": [
    {
     "name": "stdout",
     "output_type": "stream",
     "text": [
      "[[1 2 0]\n",
      " [3 5 9]]\n",
      "[[1 3]\n",
      " [2 5]\n",
      " [0 9]]\n"
     ]
    }
   ],
   "source": [
    "A = np.array([[1,2,0],[3,5,9]])\n",
    "A_T=A.T\n",
    "print(A)\n",
    "print(A_T)"
   ]
  },
  {
   "cell_type": "code",
   "execution_count": 56,
   "metadata": {},
   "outputs": [
    {
     "name": "stdout",
     "output_type": "stream",
     "text": [
      "[[1 2 7]\n",
      " [3 5 9]]\n",
      "[[0.         0.69314718 1.94591015]\n",
      " [1.09861229 1.60943791 2.19722458]]\n",
      "[[ 1  4 49]\n",
      " [ 9 25 81]]\n"
     ]
    }
   ],
   "source": [
    "A = np.array(([1,2,7],[3,5,9]))\n",
    "log_A=np.log(A)\n",
    "pow_A=np.power(A,2)\n",
    "print(A)\n",
    "print(log_A)\n",
    "print(pow_A)"
   ]
  }
 ],
 "metadata": {
  "kernelspec": {
   "display_name": "Python 3",
   "language": "python",
   "name": "python3"
  },
  "language_info": {
   "codemirror_mode": {
    "name": "ipython",
    "version": 3
   },
   "file_extension": ".py",
   "mimetype": "text/x-python",
   "name": "python",
   "nbconvert_exporter": "python",
   "pygments_lexer": "ipython3",
   "version": "3.6.5"
  }
 },
 "nbformat": 4,
 "nbformat_minor": 2
}
