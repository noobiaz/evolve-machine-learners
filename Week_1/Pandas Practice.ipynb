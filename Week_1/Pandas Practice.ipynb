{
 "cells": [
  {
   "cell_type": "markdown",
   "metadata": {},
   "source": [
    "Series"
   ]
  },
  {
   "cell_type": "code",
   "execution_count": 1,
   "metadata": {},
   "outputs": [
    {
     "name": "stdout",
     "output_type": "stream",
     "text": [
      "<class 'pandas.core.series.Series'>\n",
      "0     1\n",
      "1     2\n",
      "2     4\n",
      "3     8\n",
      "4    16\n",
      "5    32\n",
      "6    64\n",
      "dtype: int64\n"
     ]
    }
   ],
   "source": [
    "import pandas as pd\n",
    "first_series = pd.Series([1,2,4,8,16,32,64])\n",
    "print(type(first_series))\n",
    "print(first_series)"
   ]
  },
  {
   "cell_type": "code",
   "execution_count": 2,
   "metadata": {},
   "outputs": [
    {
     "name": "stdout",
     "output_type": "stream",
     "text": [
      "a    1.748236\n",
      "b   -0.701544\n",
      "c   -1.190610\n",
      "d    0.484931\n",
      "e   -0.445778\n",
      "dtype: float64\n",
      "--------------------------------------------------\n",
      "Index(['a', 'b', 'c', 'd', 'e'], dtype='object')\n"
     ]
    }
   ],
   "source": [
    "import numpy as np\n",
    "s = pd.Series(np.random.randn(5), index=['a','b','c','d','e'])\n",
    "print(s)\n",
    "print('-'*50)\n",
    "print(s.index)"
   ]
  },
  {
   "cell_type": "code",
   "execution_count": 3,
   "metadata": {},
   "outputs": [
    {
     "data": {
      "text/plain": [
       "a    0.0\n",
       "b    1.0\n",
       "c    2.0\n",
       "dtype: float64"
      ]
     },
     "execution_count": 3,
     "metadata": {},
     "output_type": "execute_result"
    }
   ],
   "source": [
    "d = {'a':0., 'b':1., 'c':2.}\n",
    "pd.Series(d)"
   ]
  },
  {
   "cell_type": "code",
   "execution_count": 4,
   "metadata": {},
   "outputs": [
    {
     "data": {
      "text/plain": [
       "a    0.0\n",
       "b    1.0\n",
       "c    2.0\n",
       "d    NaN\n",
       "dtype: float64"
      ]
     },
     "execution_count": 4,
     "metadata": {},
     "output_type": "execute_result"
    }
   ],
   "source": [
    "pd.Series(d, index=['a','b','c','d'])"
   ]
  },
  {
   "cell_type": "code",
   "execution_count": 5,
   "metadata": {},
   "outputs": [
    {
     "data": {
      "text/plain": [
       "a    5\n",
       "b    5\n",
       "c    5\n",
       "dtype: int64"
      ]
     },
     "execution_count": 5,
     "metadata": {},
     "output_type": "execute_result"
    }
   ],
   "source": [
    "pd.Series(5, index=['a','b','c'])"
   ]
  },
  {
   "cell_type": "code",
   "execution_count": 6,
   "metadata": {},
   "outputs": [
    {
     "name": "stdout",
     "output_type": "stream",
     "text": [
      "a    0.436339\n",
      "b    0.334438\n",
      "c    1.600035\n",
      "d    2.273996\n",
      "e    0.439803\n",
      "dtype: float64\n"
     ]
    }
   ],
   "source": [
    "s = pd.Series(np.random.randn(5), index=['a','b','c','d','e'])\n",
    "print(s)"
   ]
  },
  {
   "cell_type": "code",
   "execution_count": 7,
   "metadata": {},
   "outputs": [
    {
     "name": "stdout",
     "output_type": "stream",
     "text": [
      "0.43633913984506406\n",
      "a    0.436339\n",
      "b    0.334438\n",
      "c    1.600035\n",
      "dtype: float64\n",
      "c    1.600035\n",
      "d    2.273996\n",
      "dtype: float64\n",
      "a    1.547033\n",
      "b    1.397155\n",
      "c    4.953205\n",
      "d    9.718155\n",
      "e    1.552401\n",
      "dtype: float64\n"
     ]
    }
   ],
   "source": [
    "print(s[0])\n",
    "print(s[:3])\n",
    "print(s[s>s.mean()])\n",
    "print(np.exp(s))"
   ]
  },
  {
   "cell_type": "code",
   "execution_count": 8,
   "metadata": {},
   "outputs": [
    {
     "name": "stdout",
     "output_type": "stream",
     "text": [
      "0.43633913984506406\n"
     ]
    }
   ],
   "source": [
    "print(s['a'])"
   ]
  },
  {
   "cell_type": "code",
   "execution_count": 9,
   "metadata": {},
   "outputs": [
    {
     "data": {
      "text/plain": [
       "a     0.436339\n",
       "b     0.334438\n",
       "c     1.600035\n",
       "d     2.273996\n",
       "e    12.000000\n",
       "dtype: float64"
      ]
     },
     "execution_count": 9,
     "metadata": {},
     "output_type": "execute_result"
    }
   ],
   "source": [
    "s['e'] = 12\n",
    "s"
   ]
  },
  {
   "cell_type": "code",
   "execution_count": 10,
   "metadata": {},
   "outputs": [
    {
     "name": "stdout",
     "output_type": "stream",
     "text": [
      "Index(['a', 'b', 'c', 'd', 'e'], dtype='object')\n",
      "[ 0.43633914  0.33443788  1.60003486  2.27399575 12.        ]\n",
      "(5,)\n"
     ]
    }
   ],
   "source": [
    "print(s.index)\n",
    "print(s.values)\n",
    "print(s.shape)"
   ]
  },
  {
   "cell_type": "code",
   "execution_count": 11,
   "metadata": {},
   "outputs": [
    {
     "name": "stdout",
     "output_type": "stream",
     "text": [
      "a 0.43633913984506406\n",
      "b 0.3344378846100455\n",
      "c 1.600034857451066\n",
      "d 2.273995747629336\n",
      "e 12.0\n"
     ]
    }
   ],
   "source": [
    "for idx,val in s.items():\n",
    "    print(idx,val)"
   ]
  },
  {
   "cell_type": "code",
   "execution_count": 12,
   "metadata": {},
   "outputs": [
    {
     "name": "stdout",
     "output_type": "stream",
     "text": [
      "a     0.436339\n",
      "b     0.334438\n",
      "c     1.600035\n",
      "d     2.273996\n",
      "e    12.000000\n",
      "dtype: float64\n",
      "b     0.334438\n",
      "a     0.436339\n",
      "c     1.600035\n",
      "d     2.273996\n",
      "e    12.000000\n",
      "dtype: float64\n"
     ]
    }
   ],
   "source": [
    "print(s.sort_index())\n",
    "print(s.sort_values())"
   ]
  },
  {
   "cell_type": "code",
   "execution_count": 13,
   "metadata": {},
   "outputs": [
    {
     "name": "stdout",
     "output_type": "stream",
     "text": [
      "2    4\n",
      "1    3\n",
      "0    3\n",
      "dtype: int64\n"
     ]
    }
   ],
   "source": [
    "s = pd.Series([0,0,0,1,1,1,2,2,2,2])\n",
    "print(s.value_counts())"
   ]
  },
  {
   "cell_type": "code",
   "execution_count": 14,
   "metadata": {},
   "outputs": [
    {
     "name": "stdout",
     "output_type": "stream",
     "text": [
      "1.1\n",
      "1.0\n",
      "0    2\n",
      "dtype: int64\n",
      "0    0\n",
      "1    0\n",
      "dtype: int64\n",
      "2\n",
      "0\n"
     ]
    }
   ],
   "source": [
    "print(s.mean())\n",
    "print(s.median())\n",
    "print(s.mode())\n",
    "print(s.nsmallest(2))\n",
    "print(s.max())\n",
    "print(s.min())"
   ]
  },
  {
   "cell_type": "markdown",
   "metadata": {},
   "source": [
    "DataFrame"
   ]
  },
  {
   "cell_type": "code",
   "execution_count": 15,
   "metadata": {},
   "outputs": [
    {
     "name": "stdout",
     "output_type": "stream",
     "text": [
      "{'one': a    1\n",
      "b    2\n",
      "c    3\n",
      "dtype: int64, 'two': a    0\n",
      "b    1\n",
      "c    2\n",
      "d    3\n",
      "dtype: int64}\n",
      "   one  two\n",
      "a  1.0    0\n",
      "b  2.0    1\n",
      "c  3.0    2\n",
      "d  NaN    3\n"
     ]
    }
   ],
   "source": [
    "d = {'one':pd.Series([1,2,3], index=['a','b','c']),\n",
    "    'two': pd.Series(list(range(4)), index=['a','b','c','d'])}\n",
    "print(d)\n",
    "df = pd.DataFrame(d)\n",
    "print(df)"
   ]
  },
  {
   "cell_type": "code",
   "execution_count": 16,
   "metadata": {},
   "outputs": [
    {
     "name": "stdout",
     "output_type": "stream",
     "text": [
      "   one  two\n",
      "d  NaN    3\n",
      "b  2.0    1\n",
      "a  1.0    0\n"
     ]
    }
   ],
   "source": [
    "print(pd.DataFrame(d, index=['d','b','a']))"
   ]
  },
  {
   "cell_type": "code",
   "execution_count": 17,
   "metadata": {},
   "outputs": [
    {
     "name": "stdout",
     "output_type": "stream",
     "text": [
      "   two three\n",
      "d    3   NaN\n",
      "b    1   NaN\n",
      "a    0   NaN\n"
     ]
    }
   ],
   "source": [
    "print(pd.DataFrame(d, index=['d','b','a'], columns=['two','three']))"
   ]
  },
  {
   "cell_type": "code",
   "execution_count": 18,
   "metadata": {},
   "outputs": [
    {
     "name": "stdout",
     "output_type": "stream",
     "text": [
      "Index(['a', 'b', 'c', 'd'], dtype='object')\n"
     ]
    }
   ],
   "source": [
    "print(df.index)"
   ]
  },
  {
   "cell_type": "code",
   "execution_count": 19,
   "metadata": {},
   "outputs": [
    {
     "name": "stdout",
     "output_type": "stream",
     "text": [
      "Index(['one', 'two'], dtype='object')\n"
     ]
    }
   ],
   "source": [
    "print(df.columns)"
   ]
  },
  {
   "cell_type": "code",
   "execution_count": 20,
   "metadata": {},
   "outputs": [
    {
     "name": "stdout",
     "output_type": "stream",
     "text": [
      "(4, 2)\n"
     ]
    }
   ],
   "source": [
    "print(df.shape)"
   ]
  },
  {
   "cell_type": "code",
   "execution_count": 21,
   "metadata": {},
   "outputs": [
    {
     "name": "stdout",
     "output_type": "stream",
     "text": [
      "{'one': [1.0, 2.0, 3.0, 4.0], 'two': [4.0, 3.0, 2.0, 1.0]}\n",
      "   one  two\n",
      "0  1.0  4.0\n",
      "1  2.0  3.0\n",
      "2  3.0  2.0\n",
      "3  4.0  1.0\n"
     ]
    }
   ],
   "source": [
    "d = {'one':[1.,2.,3.,4.], 'two':[4.,3.,2.,1.]}\n",
    "print(d)\n",
    "df = pd.DataFrame(d)\n",
    "print(df)"
   ]
  },
  {
   "cell_type": "code",
   "execution_count": 22,
   "metadata": {},
   "outputs": [
    {
     "name": "stdout",
     "output_type": "stream",
     "text": [
      "[{'Column0': 83, 'Column1': 70, 'Column2': 43, 'Column3': 69, 'Column4': 86}, {'Column0': 67, 'Column1': 18, 'Column2': 11, 'Column3': 32, 'Column4': 69}, {'Column0': 86, 'Column1': 8, 'Column2': 49, 'Column3': 9, 'Column4': 76}, {'Column0': 53, 'Column1': 59, 'Column2': 8, 'Column3': 96, 'Column4': 13}, {'Column0': 10, 'Column1': 43, 'Column2': 5, 'Column3': 86, 'Column4': 72}, {'Column0': 48, 'Column1': 34, 'Column2': 76, 'Column3': 96, 'Column4': 99}, {'Column0': 65, 'Column1': 43, 'Column2': 94, 'Column3': 50, 'Column4': 51}, {'Column0': 16, 'Column1': 34, 'Column2': 65, 'Column3': 39, 'Column4': 24}, {'Column0': 65, 'Column1': 57, 'Column2': 53, 'Column3': 28, 'Column4': 53}, {'Column0': 19, 'Column1': 27, 'Column2': 25, 'Column3': 84, 'Column4': 93}, {'Column0': 45, 'Column1': 9, 'Column2': 78, 'Column3': 57, 'Column4': 63}, {'Column0': 66, 'Column1': 98, 'Column2': 50, 'Column3': 67, 'Column4': 81}, {'Column0': 63, 'Column1': 7, 'Column2': 6, 'Column3': 22, 'Column4': 77}, {'Column0': 28, 'Column1': 62, 'Column2': 76, 'Column3': 17, 'Column4': 83}, {'Column0': 28, 'Column1': 67, 'Column2': 97, 'Column3': 18, 'Column4': 97}, {'Column0': 95, 'Column1': 73, 'Column2': 45, 'Column3': 56, 'Column4': 46}, {'Column0': 88, 'Column1': 33, 'Column2': 28, 'Column3': 43, 'Column4': 59}, {'Column0': 7, 'Column1': 77, 'Column2': 74, 'Column3': 97, 'Column4': 71}, {'Column0': 32, 'Column1': 8, 'Column2': 72, 'Column3': 77, 'Column4': 66}, {'Column0': 56, 'Column1': 58, 'Column2': 59, 'Column3': 51, 'Column4': 35}, {'Column0': 89, 'Column1': 74, 'Column2': 60, 'Column3': 36, 'Column4': 6}, {'Column0': 90, 'Column1': 49, 'Column2': 62, 'Column3': 72, 'Column4': 54}, {'Column0': 56, 'Column1': 34, 'Column2': 4, 'Column3': 68, 'Column4': 16}, {'Column0': 59, 'Column1': 57, 'Column2': 21, 'Column3': 3, 'Column4': 40}, {'Column0': 31, 'Column1': 12, 'Column2': 50, 'Column3': 81, 'Column4': 32}, {'Column0': 44, 'Column1': 12, 'Column2': 74, 'Column3': 6, 'Column4': 32}, {'Column0': 80, 'Column1': 94, 'Column2': 32, 'Column3': 12, 'Column4': 26}, {'Column0': 46, 'Column1': 15, 'Column2': 63, 'Column3': 11, 'Column4': 47}, {'Column0': 8, 'Column1': 10, 'Column2': 95, 'Column3': 86, 'Column4': 28}, {'Column0': 40, 'Column1': 89, 'Column2': 59, 'Column3': 8, 'Column4': 74}, {'Column0': 18, 'Column1': 31, 'Column2': 8, 'Column3': 44, 'Column4': 54}, {'Column0': 61, 'Column1': 95, 'Column2': 58, 'Column3': 5, 'Column4': 9}, {'Column0': 13, 'Column1': 21, 'Column2': 50, 'Column3': 85, 'Column4': 69}, {'Column0': 91, 'Column1': 28, 'Column2': 60, 'Column3': 75, 'Column4': 66}, {'Column0': 58, 'Column1': 31, 'Column2': 90, 'Column3': 81, 'Column4': 69}, {'Column0': 76, 'Column1': 54, 'Column2': 40, 'Column3': 68, 'Column4': 82}, {'Column0': 26, 'Column1': 79, 'Column2': 70, 'Column3': 33, 'Column4': 49}, {'Column0': 27, 'Column1': 6, 'Column2': 48, 'Column3': 79, 'Column4': 39}, {'Column0': 25, 'Column1': 43, 'Column2': 34, 'Column3': 28, 'Column4': 12}, {'Column0': 20, 'Column1': 90, 'Column2': 72, 'Column3': 86, 'Column4': 61}, {'Column0': 99, 'Column1': 11, 'Column2': 35, 'Column3': 7, 'Column4': 66}, {'Column0': 73, 'Column1': 45, 'Column2': 44, 'Column3': 79, 'Column4': 39}, {'Column0': 41, 'Column1': 86, 'Column2': 15, 'Column3': 46, 'Column4': 26}, {'Column0': 27, 'Column1': 84, 'Column2': 59, 'Column3': 39, 'Column4': 83}, {'Column0': 0, 'Column1': 38, 'Column2': 40, 'Column3': 82, 'Column4': 42}, {'Column0': 77, 'Column1': 59, 'Column2': 40, 'Column3': 73, 'Column4': 85}, {'Column0': 41, 'Column1': 93, 'Column2': 56, 'Column3': 49, 'Column4': 42}, {'Column0': 42, 'Column1': 4, 'Column2': 27, 'Column3': 50, 'Column4': 11}, {'Column0': 69, 'Column1': 9, 'Column2': 16, 'Column3': 71, 'Column4': 91}, {'Column0': 1, 'Column1': 48, 'Column2': 15, 'Column3': 72, 'Column4': 27}, {'Column0': 34, 'Column1': 62, 'Column2': 64, 'Column3': 5, 'Column4': 51}, {'Column0': 36, 'Column1': 88, 'Column2': 34, 'Column3': 77, 'Column4': 33}, {'Column0': 85, 'Column1': 12, 'Column2': 28, 'Column3': 59, 'Column4': 94}, {'Column0': 19, 'Column1': 85, 'Column2': 88, 'Column3': 60, 'Column4': 69}, {'Column0': 47, 'Column1': 77, 'Column2': 69, 'Column3': 9, 'Column4': 92}, {'Column0': 58, 'Column1': 97, 'Column2': 21, 'Column3': 8, 'Column4': 51}, {'Column0': 51, 'Column1': 87, 'Column2': 39, 'Column3': 36, 'Column4': 78}, {'Column0': 99, 'Column1': 14, 'Column2': 41, 'Column3': 47, 'Column4': 71}, {'Column0': 11, 'Column1': 13, 'Column2': 71, 'Column3': 36, 'Column4': 64}, {'Column0': 27, 'Column1': 71, 'Column2': 12, 'Column3': 57, 'Column4': 66}, {'Column0': 49, 'Column1': 63, 'Column2': 44, 'Column3': 0, 'Column4': 82}, {'Column0': 64, 'Column1': 11, 'Column2': 62, 'Column3': 57, 'Column4': 86}, {'Column0': 1, 'Column1': 52, 'Column2': 72, 'Column3': 75, 'Column4': 5}, {'Column0': 32, 'Column1': 53, 'Column2': 82, 'Column3': 31, 'Column4': 26}, {'Column0': 33, 'Column1': 85, 'Column2': 78, 'Column3': 23, 'Column4': 35}, {'Column0': 87, 'Column1': 22, 'Column2': 27, 'Column3': 85, 'Column4': 57}, {'Column0': 67, 'Column1': 81, 'Column2': 94, 'Column3': 34, 'Column4': 18}, {'Column0': 41, 'Column1': 22, 'Column2': 37, 'Column3': 6, 'Column4': 2}, {'Column0': 66, 'Column1': 32, 'Column2': 12, 'Column3': 69, 'Column4': 22}, {'Column0': 92, 'Column1': 65, 'Column2': 29, 'Column3': 48, 'Column4': 51}, {'Column0': 30, 'Column1': 99, 'Column2': 2, 'Column3': 99, 'Column4': 42}, {'Column0': 9, 'Column1': 68, 'Column2': 82, 'Column3': 6, 'Column4': 65}, {'Column0': 2, 'Column1': 4, 'Column2': 90, 'Column3': 21, 'Column4': 10}, {'Column0': 15, 'Column1': 28, 'Column2': 23, 'Column3': 22, 'Column4': 30}, {'Column0': 0, 'Column1': 74, 'Column2': 58, 'Column3': 37, 'Column4': 64}, {'Column0': 69, 'Column1': 37, 'Column2': 79, 'Column3': 22, 'Column4': 50}, {'Column0': 12, 'Column1': 96, 'Column2': 7, 'Column3': 12, 'Column4': 37}, {'Column0': 0, 'Column1': 29, 'Column2': 5, 'Column3': 28, 'Column4': 81}, {'Column0': 36, 'Column1': 83, 'Column2': 17, 'Column3': 94, 'Column4': 8}, {'Column0': 8, 'Column1': 11, 'Column2': 83, 'Column3': 73, 'Column4': 15}, {'Column0': 42, 'Column1': 75, 'Column2': 96, 'Column3': 32, 'Column4': 96}, {'Column0': 26, 'Column1': 25, 'Column2': 85, 'Column3': 74, 'Column4': 68}, {'Column0': 39, 'Column1': 98, 'Column2': 57, 'Column3': 87, 'Column4': 61}, {'Column0': 37, 'Column1': 20, 'Column2': 76, 'Column3': 50, 'Column4': 43}, {'Column0': 85, 'Column1': 50, 'Column2': 71, 'Column3': 40, 'Column4': 80}, {'Column0': 88, 'Column1': 94, 'Column2': 22, 'Column3': 48, 'Column4': 64}, {'Column0': 21, 'Column1': 28, 'Column2': 27, 'Column3': 29, 'Column4': 63}, {'Column0': 13, 'Column1': 67, 'Column2': 57, 'Column3': 7, 'Column4': 80}, {'Column0': 10, 'Column1': 97, 'Column2': 62, 'Column3': 15, 'Column4': 76}, {'Column0': 17, 'Column1': 36, 'Column2': 84, 'Column3': 75, 'Column4': 4}, {'Column0': 1, 'Column1': 5, 'Column2': 49, 'Column3': 41, 'Column4': 83}, {'Column0': 26, 'Column1': 23, 'Column2': 14, 'Column3': 30, 'Column4': 69}, {'Column0': 49, 'Column1': 90, 'Column2': 31, 'Column3': 40, 'Column4': 55}, {'Column0': 79, 'Column1': 40, 'Column2': 63, 'Column3': 36, 'Column4': 66}, {'Column0': 56, 'Column1': 16, 'Column2': 51, 'Column3': 30, 'Column4': 89}, {'Column0': 94, 'Column1': 16, 'Column2': 20, 'Column3': 27, 'Column4': 25}, {'Column0': 38, 'Column1': 22, 'Column2': 50, 'Column3': 53, 'Column4': 93}, {'Column0': 55, 'Column1': 86, 'Column2': 32, 'Column3': 38, 'Column4': 79}, {'Column0': 37, 'Column1': 91, 'Column2': 80, 'Column3': 97, 'Column4': 45}, {'Column0': 57, 'Column1': 75, 'Column2': 56, 'Column3': 69, 'Column4': 19}]\n"
     ]
    }
   ],
   "source": [
    "data = []\n",
    "for i in range(100):\n",
    "    row = {}\n",
    "    for j in range(5):\n",
    "        row['Column'+ str(j)] = np.random.randint(100)\n",
    "    data.append(row)\n",
    "print(data)"
   ]
  },
  {
   "cell_type": "code",
   "execution_count": 23,
   "metadata": {},
   "outputs": [
    {
     "data": {
      "text/plain": [
       "[{'Column0': 83, 'Column1': 70, 'Column2': 43, 'Column3': 69, 'Column4': 86},\n",
       " {'Column0': 67, 'Column1': 18, 'Column2': 11, 'Column3': 32, 'Column4': 69},\n",
       " {'Column0': 86, 'Column1': 8, 'Column2': 49, 'Column3': 9, 'Column4': 76},\n",
       " {'Column0': 53, 'Column1': 59, 'Column2': 8, 'Column3': 96, 'Column4': 13},\n",
       " {'Column0': 10, 'Column1': 43, 'Column2': 5, 'Column3': 86, 'Column4': 72}]"
      ]
     },
     "execution_count": 23,
     "metadata": {},
     "output_type": "execute_result"
    }
   ],
   "source": [
    "data[:5]"
   ]
  },
  {
   "cell_type": "code",
   "execution_count": 24,
   "metadata": {},
   "outputs": [
    {
     "name": "stdout",
     "output_type": "stream",
     "text": [
      "   Column0  Column1  Column2  Column3  Column4\n",
      "0       83       70       43       69       86\n",
      "1       67       18       11       32       69\n",
      "2       86        8       49        9       76\n",
      "3       53       59        8       96       13\n",
      "4       10       43        5       86       72\n"
     ]
    }
   ],
   "source": [
    "df = pd.DataFrame(data)\n",
    "print(df.head())"
   ]
  },
  {
   "cell_type": "code",
   "execution_count": 25,
   "metadata": {},
   "outputs": [
    {
     "name": "stdout",
     "output_type": "stream",
     "text": [
      "   Column0  Column1\n",
      "0       83       70\n",
      "1       67       18\n",
      "2       86        8\n",
      "3       53       59\n",
      "4       10       43\n"
     ]
    }
   ],
   "source": [
    "df = pd.DataFrame(data, columns=['Column0','Column1'])\n",
    "print(df.head())"
   ]
  },
  {
   "cell_type": "code",
   "execution_count": 26,
   "metadata": {},
   "outputs": [
    {
     "name": "stdout",
     "output_type": "stream",
     "text": [
      "RangeIndex(start=0, stop=100, step=1)\n",
      "Index(['Column0', 'Column1'], dtype='object')\n",
      "(100, 2)\n",
      "[[83 70]\n",
      " [67 18]\n",
      " [86  8]\n",
      " [53 59]\n",
      " [10 43]\n",
      " [48 34]\n",
      " [65 43]\n",
      " [16 34]\n",
      " [65 57]\n",
      " [19 27]\n",
      " [45  9]\n",
      " [66 98]\n",
      " [63  7]\n",
      " [28 62]\n",
      " [28 67]\n",
      " [95 73]\n",
      " [88 33]\n",
      " [ 7 77]\n",
      " [32  8]\n",
      " [56 58]\n",
      " [89 74]\n",
      " [90 49]\n",
      " [56 34]\n",
      " [59 57]\n",
      " [31 12]\n",
      " [44 12]\n",
      " [80 94]\n",
      " [46 15]\n",
      " [ 8 10]\n",
      " [40 89]\n",
      " [18 31]\n",
      " [61 95]\n",
      " [13 21]\n",
      " [91 28]\n",
      " [58 31]\n",
      " [76 54]\n",
      " [26 79]\n",
      " [27  6]\n",
      " [25 43]\n",
      " [20 90]\n",
      " [99 11]\n",
      " [73 45]\n",
      " [41 86]\n",
      " [27 84]\n",
      " [ 0 38]\n",
      " [77 59]\n",
      " [41 93]\n",
      " [42  4]\n",
      " [69  9]\n",
      " [ 1 48]\n",
      " [34 62]\n",
      " [36 88]\n",
      " [85 12]\n",
      " [19 85]\n",
      " [47 77]\n",
      " [58 97]\n",
      " [51 87]\n",
      " [99 14]\n",
      " [11 13]\n",
      " [27 71]\n",
      " [49 63]\n",
      " [64 11]\n",
      " [ 1 52]\n",
      " [32 53]\n",
      " [33 85]\n",
      " [87 22]\n",
      " [67 81]\n",
      " [41 22]\n",
      " [66 32]\n",
      " [92 65]\n",
      " [30 99]\n",
      " [ 9 68]\n",
      " [ 2  4]\n",
      " [15 28]\n",
      " [ 0 74]\n",
      " [69 37]\n",
      " [12 96]\n",
      " [ 0 29]\n",
      " [36 83]\n",
      " [ 8 11]\n",
      " [42 75]\n",
      " [26 25]\n",
      " [39 98]\n",
      " [37 20]\n",
      " [85 50]\n",
      " [88 94]\n",
      " [21 28]\n",
      " [13 67]\n",
      " [10 97]\n",
      " [17 36]\n",
      " [ 1  5]\n",
      " [26 23]\n",
      " [49 90]\n",
      " [79 40]\n",
      " [56 16]\n",
      " [94 16]\n",
      " [38 22]\n",
      " [55 86]\n",
      " [37 91]\n",
      " [57 75]]\n"
     ]
    }
   ],
   "source": [
    "print(df.index)\n",
    "print(df.columns)\n",
    "print(df.shape)\n",
    "print(df.values)"
   ]
  },
  {
   "cell_type": "code",
   "execution_count": 27,
   "metadata": {},
   "outputs": [
    {
     "name": "stdout",
     "output_type": "stream",
     "text": [
      "   one  two\n",
      "a  1.0    0\n",
      "b  2.0    1\n",
      "c  3.0    2\n",
      "d  NaN    3\n",
      "   one  two  three   flag\n",
      "a  1.0    0    0.0  False\n",
      "b  2.0    1    2.0  False\n",
      "c  3.0    2    6.0   True\n",
      "d  NaN    3    NaN  False\n"
     ]
    }
   ],
   "source": [
    "d = {'one':pd.Series([1,2,3], index=['a','b','c']),\n",
    "    'two': pd.Series(list(range(4)), index=['a','b','c','d'])}\n",
    "df = pd.DataFrame(d)\n",
    "print(df)\n",
    "df['three'] = df['one']*df['two']\n",
    "df['flag'] = df['one']>2\n",
    "print(df.head())"
   ]
  },
  {
   "cell_type": "code",
   "execution_count": 28,
   "metadata": {},
   "outputs": [
    {
     "name": "stdout",
     "output_type": "stream",
     "text": [
      "a    0.0\n",
      "b    2.0\n",
      "c    6.0\n",
      "d    NaN\n",
      "Name: three, dtype: float64\n",
      "   one  two   flag\n",
      "a  1.0    0  False\n",
      "b  2.0    1  False\n",
      "c  3.0    2   True\n",
      "d  NaN    3  False\n"
     ]
    }
   ],
   "source": [
    "three = df.pop('three')\n",
    "print(three)\n",
    "print(df.head())"
   ]
  },
  {
   "cell_type": "code",
   "execution_count": 29,
   "metadata": {},
   "outputs": [
    {
     "name": "stdout",
     "output_type": "stream",
     "text": [
      "   one  two   flag  foo\n",
      "a  1.0    0  False  bar\n",
      "b  2.0    1  False  bar\n",
      "c  3.0    2   True  bar\n",
      "d  NaN    3  False  bar\n"
     ]
    }
   ],
   "source": [
    "df['foo']='bar'\n",
    "print(df.head())"
   ]
  },
  {
   "cell_type": "code",
   "execution_count": 30,
   "metadata": {},
   "outputs": [
    {
     "name": "stdout",
     "output_type": "stream",
     "text": [
      "   two  foo\n",
      "a    0  bar\n",
      "b    1  bar\n",
      "c    2  bar\n",
      "d    3  bar\n",
      "\n",
      "\n",
      "one         2\n",
      "two         1\n",
      "flag    False\n",
      "foo       bar\n",
      "Name: b, dtype: object\n",
      "\n",
      "\n",
      "   one  two   flag  foo\n",
      "c  3.0    2   True  bar\n",
      "d  NaN    3  False  bar\n",
      "\n",
      "\n",
      "   one  two   flag  foo\n",
      "a  1.0    0  False  bar\n",
      "b  2.0    1  False  bar\n",
      "c  3.0    2   True  bar\n",
      "\n",
      "\n",
      "   one  two   flag  foo\n",
      "a  1.0  0.0  False  NaN\n",
      "b  NaN  1.0  False  NaN\n",
      "c  NaN  NaN   True  NaN\n",
      "d  NaN  NaN  False  NaN\n"
     ]
    }
   ],
   "source": [
    "print(df[['two','foo']]) # select column\n",
    "print('\\n')\n",
    "print(df.loc['b']) # select row by label\n",
    "print('\\n')\n",
    "print(df.iloc[2:,:]) # select row by integer location\n",
    "print('\\n')\n",
    "print(df['a':'c']) # slice rows\n",
    "print('\\n')\n",
    "print(df.mask(df> 1)) # select rows by boolean"
   ]
  },
  {
   "cell_type": "code",
   "execution_count": 31,
   "metadata": {},
   "outputs": [
    {
     "data": {
      "text/html": [
       "<div>\n",
       "<style scoped>\n",
       "    .dataframe tbody tr th:only-of-type {\n",
       "        vertical-align: middle;\n",
       "    }\n",
       "\n",
       "    .dataframe tbody tr th {\n",
       "        vertical-align: top;\n",
       "    }\n",
       "\n",
       "    .dataframe thead th {\n",
       "        text-align: right;\n",
       "    }\n",
       "</style>\n",
       "<table border=\"1\" class=\"dataframe\">\n",
       "  <thead>\n",
       "    <tr style=\"text-align: right;\">\n",
       "      <th></th>\n",
       "      <th>A</th>\n",
       "      <th>B</th>\n",
       "      <th>C</th>\n",
       "      <th>D</th>\n",
       "    </tr>\n",
       "  </thead>\n",
       "  <tbody>\n",
       "    <tr>\n",
       "      <th>2000-01-01</th>\n",
       "      <td>-0.766905</td>\n",
       "      <td>-1.099917</td>\n",
       "      <td>1.526191</td>\n",
       "      <td>-0.760668</td>\n",
       "    </tr>\n",
       "    <tr>\n",
       "      <th>2000-01-02</th>\n",
       "      <td>-1.345469</td>\n",
       "      <td>1.479332</td>\n",
       "      <td>-0.499637</td>\n",
       "      <td>-0.577389</td>\n",
       "    </tr>\n",
       "    <tr>\n",
       "      <th>...</th>\n",
       "      <td>...</td>\n",
       "      <td>...</td>\n",
       "      <td>...</td>\n",
       "      <td>...</td>\n",
       "    </tr>\n",
       "    <tr>\n",
       "      <th>2000-01-04</th>\n",
       "      <td>-0.142041</td>\n",
       "      <td>-1.417811</td>\n",
       "      <td>2.263640</td>\n",
       "      <td>0.791886</td>\n",
       "    </tr>\n",
       "    <tr>\n",
       "      <th>2000-01-05</th>\n",
       "      <td>0.087137</td>\n",
       "      <td>0.733263</td>\n",
       "      <td>-0.593410</td>\n",
       "      <td>0.121478</td>\n",
       "    </tr>\n",
       "  </tbody>\n",
       "</table>\n",
       "<p>5 rows × 4 columns</p>\n",
       "</div>"
      ],
      "text/plain": [
       "                   A         B         C         D\n",
       "2000-01-01 -0.766905 -1.099917  1.526191 -0.760668\n",
       "2000-01-02 -1.345469  1.479332 -0.499637 -0.577389\n",
       "...              ...       ...       ...       ...\n",
       "2000-01-04 -0.142041 -1.417811  2.263640  0.791886\n",
       "2000-01-05  0.087137  0.733263 -0.593410  0.121478\n",
       "\n",
       "[5 rows x 4 columns]"
      ]
     },
     "execution_count": 31,
     "metadata": {},
     "output_type": "execute_result"
    }
   ],
   "source": [
    "pd.options.display.max_rows = 4\n",
    "dates = pd.date_range('1/1/2000', periods=8)\n",
    "df = pd.DataFrame(np.random.randn(8,4), index=dates, columns=['A','B','C','D'])\n",
    "df.head()"
   ]
  },
  {
   "cell_type": "code",
   "execution_count": 32,
   "metadata": {},
   "outputs": [
    {
     "data": {
      "text/plain": [
       "2000-01-01   -0.766905\n",
       "2000-01-02   -1.345469\n",
       "                ...   \n",
       "2000-01-07    2.465213\n",
       "2000-01-08   -1.254809\n",
       "Freq: D, Name: A, Length: 8, dtype: float64"
      ]
     },
     "execution_count": 32,
     "metadata": {},
     "output_type": "execute_result"
    }
   ],
   "source": [
    "df['A']"
   ]
  },
  {
   "cell_type": "code",
   "execution_count": 33,
   "metadata": {},
   "outputs": [
    {
     "data": {
      "text/html": [
       "<div>\n",
       "<style scoped>\n",
       "    .dataframe tbody tr th:only-of-type {\n",
       "        vertical-align: middle;\n",
       "    }\n",
       "\n",
       "    .dataframe tbody tr th {\n",
       "        vertical-align: top;\n",
       "    }\n",
       "\n",
       "    .dataframe thead th {\n",
       "        text-align: right;\n",
       "    }\n",
       "</style>\n",
       "<table border=\"1\" class=\"dataframe\">\n",
       "  <thead>\n",
       "    <tr style=\"text-align: right;\">\n",
       "      <th></th>\n",
       "      <th>A</th>\n",
       "      <th>B</th>\n",
       "    </tr>\n",
       "  </thead>\n",
       "  <tbody>\n",
       "    <tr>\n",
       "      <th>2000-01-01</th>\n",
       "      <td>-0.766905</td>\n",
       "      <td>-1.099917</td>\n",
       "    </tr>\n",
       "    <tr>\n",
       "      <th>2000-01-02</th>\n",
       "      <td>-1.345469</td>\n",
       "      <td>1.479332</td>\n",
       "    </tr>\n",
       "    <tr>\n",
       "      <th>...</th>\n",
       "      <td>...</td>\n",
       "      <td>...</td>\n",
       "    </tr>\n",
       "    <tr>\n",
       "      <th>2000-01-07</th>\n",
       "      <td>2.465213</td>\n",
       "      <td>0.295082</td>\n",
       "    </tr>\n",
       "    <tr>\n",
       "      <th>2000-01-08</th>\n",
       "      <td>-1.254809</td>\n",
       "      <td>-1.521784</td>\n",
       "    </tr>\n",
       "  </tbody>\n",
       "</table>\n",
       "<p>8 rows × 2 columns</p>\n",
       "</div>"
      ],
      "text/plain": [
       "                   A         B\n",
       "2000-01-01 -0.766905 -1.099917\n",
       "2000-01-02 -1.345469  1.479332\n",
       "...              ...       ...\n",
       "2000-01-07  2.465213  0.295082\n",
       "2000-01-08 -1.254809 -1.521784\n",
       "\n",
       "[8 rows x 2 columns]"
      ]
     },
     "execution_count": 33,
     "metadata": {},
     "output_type": "execute_result"
    }
   ],
   "source": [
    "df[['A','B']]"
   ]
  },
  {
   "cell_type": "code",
   "execution_count": 34,
   "metadata": {},
   "outputs": [
    {
     "data": {
      "text/html": [
       "<div>\n",
       "<style scoped>\n",
       "    .dataframe tbody tr th:only-of-type {\n",
       "        vertical-align: middle;\n",
       "    }\n",
       "\n",
       "    .dataframe tbody tr th {\n",
       "        vertical-align: top;\n",
       "    }\n",
       "\n",
       "    .dataframe thead th {\n",
       "        text-align: right;\n",
       "    }\n",
       "</style>\n",
       "<table border=\"1\" class=\"dataframe\">\n",
       "  <thead>\n",
       "    <tr style=\"text-align: right;\">\n",
       "      <th></th>\n",
       "      <th>A</th>\n",
       "      <th>B</th>\n",
       "      <th>C</th>\n",
       "      <th>D</th>\n",
       "    </tr>\n",
       "  </thead>\n",
       "  <tbody>\n",
       "    <tr>\n",
       "      <th>2000-01-01</th>\n",
       "      <td>-0.766905</td>\n",
       "      <td>-1.099917</td>\n",
       "      <td>1.526191</td>\n",
       "      <td>-0.760668</td>\n",
       "    </tr>\n",
       "    <tr>\n",
       "      <th>2000-01-02</th>\n",
       "      <td>-1.345469</td>\n",
       "      <td>1.479332</td>\n",
       "      <td>-0.499637</td>\n",
       "      <td>-0.577389</td>\n",
       "    </tr>\n",
       "    <tr>\n",
       "      <th>...</th>\n",
       "      <td>...</td>\n",
       "      <td>...</td>\n",
       "      <td>...</td>\n",
       "      <td>...</td>\n",
       "    </tr>\n",
       "    <tr>\n",
       "      <th>2000-01-04</th>\n",
       "      <td>-0.142041</td>\n",
       "      <td>-1.417811</td>\n",
       "      <td>2.263640</td>\n",
       "      <td>0.791886</td>\n",
       "    </tr>\n",
       "    <tr>\n",
       "      <th>2000-01-05</th>\n",
       "      <td>0.087137</td>\n",
       "      <td>0.733263</td>\n",
       "      <td>-0.593410</td>\n",
       "      <td>0.121478</td>\n",
       "    </tr>\n",
       "  </tbody>\n",
       "</table>\n",
       "<p>5 rows × 4 columns</p>\n",
       "</div>"
      ],
      "text/plain": [
       "                   A         B         C         D\n",
       "2000-01-01 -0.766905 -1.099917  1.526191 -0.760668\n",
       "2000-01-02 -1.345469  1.479332 -0.499637 -0.577389\n",
       "...              ...       ...       ...       ...\n",
       "2000-01-04 -0.142041 -1.417811  2.263640  0.791886\n",
       "2000-01-05  0.087137  0.733263 -0.593410  0.121478\n",
       "\n",
       "[5 rows x 4 columns]"
      ]
     },
     "execution_count": 34,
     "metadata": {},
     "output_type": "execute_result"
    }
   ],
   "source": [
    "df['2000-01-01':'2000-01-05']"
   ]
  },
  {
   "cell_type": "code",
   "execution_count": 35,
   "metadata": {},
   "outputs": [
    {
     "data": {
      "text/html": [
       "<div>\n",
       "<style scoped>\n",
       "    .dataframe tbody tr th:only-of-type {\n",
       "        vertical-align: middle;\n",
       "    }\n",
       "\n",
       "    .dataframe tbody tr th {\n",
       "        vertical-align: top;\n",
       "    }\n",
       "\n",
       "    .dataframe thead th {\n",
       "        text-align: right;\n",
       "    }\n",
       "</style>\n",
       "<table border=\"1\" class=\"dataframe\">\n",
       "  <thead>\n",
       "    <tr style=\"text-align: right;\">\n",
       "      <th></th>\n",
       "      <th>A</th>\n",
       "      <th>B</th>\n",
       "      <th>C</th>\n",
       "      <th>D</th>\n",
       "    </tr>\n",
       "  </thead>\n",
       "  <tbody>\n",
       "    <tr>\n",
       "      <th>2000-01-02</th>\n",
       "      <td>-1.345469</td>\n",
       "      <td>1.479332</td>\n",
       "      <td>-0.499637</td>\n",
       "      <td>-0.577389</td>\n",
       "    </tr>\n",
       "    <tr>\n",
       "      <th>2000-01-03</th>\n",
       "      <td>-1.714920</td>\n",
       "      <td>-0.691033</td>\n",
       "      <td>-1.101853</td>\n",
       "      <td>-1.084277</td>\n",
       "    </tr>\n",
       "    <tr>\n",
       "      <th>...</th>\n",
       "      <td>...</td>\n",
       "      <td>...</td>\n",
       "      <td>...</td>\n",
       "      <td>...</td>\n",
       "    </tr>\n",
       "    <tr>\n",
       "      <th>2000-01-06</th>\n",
       "      <td>0.165722</td>\n",
       "      <td>1.195298</td>\n",
       "      <td>-0.039066</td>\n",
       "      <td>-0.747085</td>\n",
       "    </tr>\n",
       "    <tr>\n",
       "      <th>2000-01-07</th>\n",
       "      <td>2.465213</td>\n",
       "      <td>0.295082</td>\n",
       "      <td>-1.401379</td>\n",
       "      <td>0.450560</td>\n",
       "    </tr>\n",
       "  </tbody>\n",
       "</table>\n",
       "<p>5 rows × 4 columns</p>\n",
       "</div>"
      ],
      "text/plain": [
       "                   A         B         C         D\n",
       "2000-01-02 -1.345469  1.479332 -0.499637 -0.577389\n",
       "2000-01-03 -1.714920 -0.691033 -1.101853 -1.084277\n",
       "...              ...       ...       ...       ...\n",
       "2000-01-06  0.165722  1.195298 -0.039066 -0.747085\n",
       "2000-01-07  2.465213  0.295082 -1.401379  0.450560\n",
       "\n",
       "[5 rows x 4 columns]"
      ]
     },
     "execution_count": 35,
     "metadata": {},
     "output_type": "execute_result"
    }
   ],
   "source": [
    "df[df['B'] > df['C']].head() # only rows which column B > column C are shown"
   ]
  },
  {
   "cell_type": "code",
   "execution_count": 36,
   "metadata": {},
   "outputs": [
    {
     "data": {
      "text/html": [
       "<div>\n",
       "<style scoped>\n",
       "    .dataframe tbody tr th:only-of-type {\n",
       "        vertical-align: middle;\n",
       "    }\n",
       "\n",
       "    .dataframe tbody tr th {\n",
       "        vertical-align: top;\n",
       "    }\n",
       "\n",
       "    .dataframe thead th {\n",
       "        text-align: right;\n",
       "    }\n",
       "</style>\n",
       "<table border=\"1\" class=\"dataframe\">\n",
       "  <thead>\n",
       "    <tr style=\"text-align: right;\">\n",
       "      <th></th>\n",
       "      <th>A</th>\n",
       "      <th>B</th>\n",
       "      <th>C</th>\n",
       "      <th>D</th>\n",
       "    </tr>\n",
       "  </thead>\n",
       "  <tbody>\n",
       "    <tr>\n",
       "      <th>2000-01-01</th>\n",
       "      <td>-1.099917</td>\n",
       "      <td>-1.099917</td>\n",
       "      <td>1.526191</td>\n",
       "      <td>-0.760668</td>\n",
       "    </tr>\n",
       "    <tr>\n",
       "      <th>2000-01-02</th>\n",
       "      <td>1.479332</td>\n",
       "      <td>1.479332</td>\n",
       "      <td>-0.499637</td>\n",
       "      <td>-0.577389</td>\n",
       "    </tr>\n",
       "    <tr>\n",
       "      <th>...</th>\n",
       "      <td>...</td>\n",
       "      <td>...</td>\n",
       "      <td>...</td>\n",
       "      <td>...</td>\n",
       "    </tr>\n",
       "    <tr>\n",
       "      <th>2000-01-04</th>\n",
       "      <td>-1.417811</td>\n",
       "      <td>-1.417811</td>\n",
       "      <td>2.263640</td>\n",
       "      <td>0.791886</td>\n",
       "    </tr>\n",
       "    <tr>\n",
       "      <th>2000-01-05</th>\n",
       "      <td>0.733263</td>\n",
       "      <td>0.733263</td>\n",
       "      <td>-0.593410</td>\n",
       "      <td>0.121478</td>\n",
       "    </tr>\n",
       "  </tbody>\n",
       "</table>\n",
       "<p>5 rows × 4 columns</p>\n",
       "</div>"
      ],
      "text/plain": [
       "                   A         B         C         D\n",
       "2000-01-01 -1.099917 -1.099917  1.526191 -0.760668\n",
       "2000-01-02  1.479332  1.479332 -0.499637 -0.577389\n",
       "...              ...       ...       ...       ...\n",
       "2000-01-04 -1.417811 -1.417811  2.263640  0.791886\n",
       "2000-01-05  0.733263  0.733263 -0.593410  0.121478\n",
       "\n",
       "[5 rows x 4 columns]"
      ]
     },
     "execution_count": 36,
     "metadata": {},
     "output_type": "execute_result"
    }
   ],
   "source": [
    "df['A'] = df['B'].values\n",
    "df.head()"
   ]
  },
  {
   "cell_type": "code",
   "execution_count": 37,
   "metadata": {},
   "outputs": [
    {
     "data": {
      "text/plain": [
       "A   -1.417811\n",
       "B   -1.417811\n",
       "C    2.263640\n",
       "D    0.791886\n",
       "Name: 2000-01-04 00:00:00, dtype: float64"
      ]
     },
     "execution_count": 37,
     "metadata": {},
     "output_type": "execute_result"
    }
   ],
   "source": [
    "df.loc['2000-01-04']"
   ]
  },
  {
   "cell_type": "code",
   "execution_count": 38,
   "metadata": {},
   "outputs": [
    {
     "data": {
      "text/html": [
       "<div>\n",
       "<style scoped>\n",
       "    .dataframe tbody tr th:only-of-type {\n",
       "        vertical-align: middle;\n",
       "    }\n",
       "\n",
       "    .dataframe tbody tr th {\n",
       "        vertical-align: top;\n",
       "    }\n",
       "\n",
       "    .dataframe thead th {\n",
       "        text-align: right;\n",
       "    }\n",
       "</style>\n",
       "<table border=\"1\" class=\"dataframe\">\n",
       "  <thead>\n",
       "    <tr style=\"text-align: right;\">\n",
       "      <th></th>\n",
       "      <th>A</th>\n",
       "      <th>B</th>\n",
       "    </tr>\n",
       "  </thead>\n",
       "  <tbody>\n",
       "    <tr>\n",
       "      <th>2000-01-04</th>\n",
       "      <td>-1.417811</td>\n",
       "      <td>-1.417811</td>\n",
       "    </tr>\n",
       "    <tr>\n",
       "      <th>2000-01-05</th>\n",
       "      <td>0.733263</td>\n",
       "      <td>0.733263</td>\n",
       "    </tr>\n",
       "    <tr>\n",
       "      <th>...</th>\n",
       "      <td>...</td>\n",
       "      <td>...</td>\n",
       "    </tr>\n",
       "    <tr>\n",
       "      <th>2000-01-07</th>\n",
       "      <td>0.295082</td>\n",
       "      <td>0.295082</td>\n",
       "    </tr>\n",
       "    <tr>\n",
       "      <th>2000-01-08</th>\n",
       "      <td>-1.521784</td>\n",
       "      <td>-1.521784</td>\n",
       "    </tr>\n",
       "  </tbody>\n",
       "</table>\n",
       "<p>5 rows × 2 columns</p>\n",
       "</div>"
      ],
      "text/plain": [
       "                   A         B\n",
       "2000-01-04 -1.417811 -1.417811\n",
       "2000-01-05  0.733263  0.733263\n",
       "...              ...       ...\n",
       "2000-01-07  0.295082  0.295082\n",
       "2000-01-08 -1.521784 -1.521784\n",
       "\n",
       "[5 rows x 2 columns]"
      ]
     },
     "execution_count": 38,
     "metadata": {},
     "output_type": "execute_result"
    }
   ],
   "source": [
    "df.loc['2000-01-04':,['A','B']]"
   ]
  },
  {
   "cell_type": "code",
   "execution_count": 39,
   "metadata": {},
   "outputs": [
    {
     "data": {
      "text/html": [
       "<div>\n",
       "<style scoped>\n",
       "    .dataframe tbody tr th:only-of-type {\n",
       "        vertical-align: middle;\n",
       "    }\n",
       "\n",
       "    .dataframe tbody tr th {\n",
       "        vertical-align: top;\n",
       "    }\n",
       "\n",
       "    .dataframe thead th {\n",
       "        text-align: right;\n",
       "    }\n",
       "</style>\n",
       "<table border=\"1\" class=\"dataframe\">\n",
       "  <thead>\n",
       "    <tr style=\"text-align: right;\">\n",
       "      <th></th>\n",
       "      <th>A</th>\n",
       "      <th>B</th>\n",
       "      <th>C</th>\n",
       "      <th>D</th>\n",
       "    </tr>\n",
       "  </thead>\n",
       "  <tbody>\n",
       "    <tr>\n",
       "      <th>2000-01-01</th>\n",
       "      <td>-1.099917</td>\n",
       "      <td>-1.099917</td>\n",
       "      <td>1.526191</td>\n",
       "      <td>-0.760668</td>\n",
       "    </tr>\n",
       "    <tr>\n",
       "      <th>2000-01-03</th>\n",
       "      <td>-0.691033</td>\n",
       "      <td>-0.691033</td>\n",
       "      <td>-1.101853</td>\n",
       "      <td>-1.084277</td>\n",
       "    </tr>\n",
       "    <tr>\n",
       "      <th>2000-01-05</th>\n",
       "      <td>0.733263</td>\n",
       "      <td>0.733263</td>\n",
       "      <td>-0.593410</td>\n",
       "      <td>0.121478</td>\n",
       "    </tr>\n",
       "  </tbody>\n",
       "</table>\n",
       "</div>"
      ],
      "text/plain": [
       "                   A         B         C         D\n",
       "2000-01-01 -1.099917 -1.099917  1.526191 -0.760668\n",
       "2000-01-03 -0.691033 -0.691033 -1.101853 -1.084277\n",
       "2000-01-05  0.733263  0.733263 -0.593410  0.121478"
      ]
     },
     "execution_count": 39,
     "metadata": {},
     "output_type": "execute_result"
    }
   ],
   "source": [
    "df.loc[[True,False,True,False,True]] # showing skipped columns based on boolean"
   ]
  },
  {
   "cell_type": "code",
   "execution_count": 40,
   "metadata": {},
   "outputs": [
    {
     "name": "stdout",
     "output_type": "stream",
     "text": [
      "           0         3         6         9\n",
      "0   0.199769  1.096518 -0.961154  1.864665\n",
      "2   1.514902 -0.606221 -0.115089 -0.416125\n",
      "..       ...       ...       ...       ...\n",
      "8   0.282331  0.980553 -0.551285 -1.097887\n",
      "10  0.087102  1.021569  0.354572 -1.056896\n",
      "\n",
      "[6 rows x 4 columns]\n"
     ]
    }
   ],
   "source": [
    "df1 = pd.DataFrame(np.random.randn(6,4), index=list(range(0,12,2)), \n",
    "                   columns=list(range(0,12,3)))\n",
    "print(df1)"
   ]
  },
  {
   "cell_type": "code",
   "execution_count": 41,
   "metadata": {},
   "outputs": [
    {
     "data": {
      "text/html": [
       "<div>\n",
       "<style scoped>\n",
       "    .dataframe tbody tr th:only-of-type {\n",
       "        vertical-align: middle;\n",
       "    }\n",
       "\n",
       "    .dataframe tbody tr th {\n",
       "        vertical-align: top;\n",
       "    }\n",
       "\n",
       "    .dataframe thead th {\n",
       "        text-align: right;\n",
       "    }\n",
       "</style>\n",
       "<table border=\"1\" class=\"dataframe\">\n",
       "  <thead>\n",
       "    <tr style=\"text-align: right;\">\n",
       "      <th></th>\n",
       "      <th>0</th>\n",
       "      <th>3</th>\n",
       "      <th>6</th>\n",
       "      <th>9</th>\n",
       "    </tr>\n",
       "  </thead>\n",
       "  <tbody>\n",
       "    <tr>\n",
       "      <th>0</th>\n",
       "      <td>0.199769</td>\n",
       "      <td>1.096518</td>\n",
       "      <td>-0.961154</td>\n",
       "      <td>1.864665</td>\n",
       "    </tr>\n",
       "    <tr>\n",
       "      <th>2</th>\n",
       "      <td>1.514902</td>\n",
       "      <td>-0.606221</td>\n",
       "      <td>-0.115089</td>\n",
       "      <td>-0.416125</td>\n",
       "    </tr>\n",
       "    <tr>\n",
       "      <th>4</th>\n",
       "      <td>-0.765732</td>\n",
       "      <td>0.013940</td>\n",
       "      <td>0.010505</td>\n",
       "      <td>-3.024530</td>\n",
       "    </tr>\n",
       "  </tbody>\n",
       "</table>\n",
       "</div>"
      ],
      "text/plain": [
       "          0         3         6         9\n",
       "0  0.199769  1.096518 -0.961154  1.864665\n",
       "2  1.514902 -0.606221 -0.115089 -0.416125\n",
       "4 -0.765732  0.013940  0.010505 -3.024530"
      ]
     },
     "execution_count": 41,
     "metadata": {},
     "output_type": "execute_result"
    }
   ],
   "source": [
    "df1.iloc[:3]"
   ]
  },
  {
   "cell_type": "code",
   "execution_count": 42,
   "metadata": {},
   "outputs": [
    {
     "data": {
      "text/html": [
       "<div>\n",
       "<style scoped>\n",
       "    .dataframe tbody tr th:only-of-type {\n",
       "        vertical-align: middle;\n",
       "    }\n",
       "\n",
       "    .dataframe tbody tr th {\n",
       "        vertical-align: top;\n",
       "    }\n",
       "\n",
       "    .dataframe thead th {\n",
       "        text-align: right;\n",
       "    }\n",
       "</style>\n",
       "<table border=\"1\" class=\"dataframe\">\n",
       "  <thead>\n",
       "    <tr style=\"text-align: right;\">\n",
       "      <th></th>\n",
       "      <th>6</th>\n",
       "      <th>9</th>\n",
       "    </tr>\n",
       "  </thead>\n",
       "  <tbody>\n",
       "    <tr>\n",
       "      <th>2</th>\n",
       "      <td>-0.115089</td>\n",
       "      <td>-0.416125</td>\n",
       "    </tr>\n",
       "    <tr>\n",
       "      <th>4</th>\n",
       "      <td>0.010505</td>\n",
       "      <td>-3.024530</td>\n",
       "    </tr>\n",
       "    <tr>\n",
       "      <th>6</th>\n",
       "      <td>-0.462344</td>\n",
       "      <td>-0.880428</td>\n",
       "    </tr>\n",
       "    <tr>\n",
       "      <th>8</th>\n",
       "      <td>-0.551285</td>\n",
       "      <td>-1.097887</td>\n",
       "    </tr>\n",
       "  </tbody>\n",
       "</table>\n",
       "</div>"
      ],
      "text/plain": [
       "          6         9\n",
       "2 -0.115089 -0.416125\n",
       "4  0.010505 -3.024530\n",
       "6 -0.462344 -0.880428\n",
       "8 -0.551285 -1.097887"
      ]
     },
     "execution_count": 42,
     "metadata": {},
     "output_type": "execute_result"
    }
   ],
   "source": [
    "df1.iloc[1:5,2:4]"
   ]
  },
  {
   "cell_type": "code",
   "execution_count": 43,
   "metadata": {},
   "outputs": [
    {
     "data": {
      "text/html": [
       "<div>\n",
       "<style scoped>\n",
       "    .dataframe tbody tr th:only-of-type {\n",
       "        vertical-align: middle;\n",
       "    }\n",
       "\n",
       "    .dataframe tbody tr th {\n",
       "        vertical-align: top;\n",
       "    }\n",
       "\n",
       "    .dataframe thead th {\n",
       "        text-align: right;\n",
       "    }\n",
       "</style>\n",
       "<table border=\"1\" class=\"dataframe\">\n",
       "  <thead>\n",
       "    <tr style=\"text-align: right;\">\n",
       "      <th></th>\n",
       "      <th>3</th>\n",
       "      <th>9</th>\n",
       "    </tr>\n",
       "  </thead>\n",
       "  <tbody>\n",
       "    <tr>\n",
       "      <th>2</th>\n",
       "      <td>-0.606221</td>\n",
       "      <td>-0.416125</td>\n",
       "    </tr>\n",
       "    <tr>\n",
       "      <th>6</th>\n",
       "      <td>-1.081240</td>\n",
       "      <td>-0.880428</td>\n",
       "    </tr>\n",
       "    <tr>\n",
       "      <th>10</th>\n",
       "      <td>1.021569</td>\n",
       "      <td>-1.056896</td>\n",
       "    </tr>\n",
       "  </tbody>\n",
       "</table>\n",
       "</div>"
      ],
      "text/plain": [
       "           3         9\n",
       "2  -0.606221 -0.416125\n",
       "6  -1.081240 -0.880428\n",
       "10  1.021569 -1.056896"
      ]
     },
     "execution_count": 43,
     "metadata": {},
     "output_type": "execute_result"
    }
   ],
   "source": [
    "df1.iloc[[1,3,5],[1,3]]"
   ]
  },
  {
   "cell_type": "code",
   "execution_count": 44,
   "metadata": {},
   "outputs": [
    {
     "data": {
      "text/plain": [
       "0     1.096518\n",
       "8     0.980553\n",
       "10    1.021569\n",
       "Name: 3, dtype: float64"
      ]
     },
     "execution_count": 44,
     "metadata": {},
     "output_type": "execute_result"
    }
   ],
   "source": [
    "boolean_mask = df1.iloc[:,1] > 0.05\n",
    "df1.iloc[boolean_mask.values,1]"
   ]
  },
  {
   "cell_type": "code",
   "execution_count": 45,
   "metadata": {},
   "outputs": [
    {
     "data": {
      "text/html": [
       "<div>\n",
       "<style scoped>\n",
       "    .dataframe tbody tr th:only-of-type {\n",
       "        vertical-align: middle;\n",
       "    }\n",
       "\n",
       "    .dataframe tbody tr th {\n",
       "        vertical-align: top;\n",
       "    }\n",
       "\n",
       "    .dataframe thead th {\n",
       "        text-align: right;\n",
       "    }\n",
       "</style>\n",
       "<table border=\"1\" class=\"dataframe\">\n",
       "  <thead>\n",
       "    <tr style=\"text-align: right;\">\n",
       "      <th></th>\n",
       "      <th>a</th>\n",
       "      <th>b</th>\n",
       "      <th>c</th>\n",
       "      <th>d</th>\n",
       "    </tr>\n",
       "  </thead>\n",
       "  <tbody>\n",
       "    <tr>\n",
       "      <th>0</th>\n",
       "      <td>-1.184598</td>\n",
       "      <td>-0.547340</td>\n",
       "      <td>-1.616546</td>\n",
       "      <td>0.477289</td>\n",
       "    </tr>\n",
       "    <tr>\n",
       "      <th>2</th>\n",
       "      <td>0.611497</td>\n",
       "      <td>-0.600979</td>\n",
       "      <td>0.667487</td>\n",
       "      <td>-0.528100</td>\n",
       "    </tr>\n",
       "    <tr>\n",
       "      <th>...</th>\n",
       "      <td>...</td>\n",
       "      <td>...</td>\n",
       "      <td>...</td>\n",
       "      <td>...</td>\n",
       "    </tr>\n",
       "    <tr>\n",
       "      <th>8</th>\n",
       "      <td>0.085455</td>\n",
       "      <td>0.542702</td>\n",
       "      <td>-0.957065</td>\n",
       "      <td>0.581615</td>\n",
       "    </tr>\n",
       "    <tr>\n",
       "      <th>10</th>\n",
       "      <td>0.731442</td>\n",
       "      <td>0.998909</td>\n",
       "      <td>-0.269430</td>\n",
       "      <td>0.079461</td>\n",
       "    </tr>\n",
       "  </tbody>\n",
       "</table>\n",
       "<p>6 rows × 4 columns</p>\n",
       "</div>"
      ],
      "text/plain": [
       "           a         b         c         d\n",
       "0  -1.184598 -0.547340 -1.616546  0.477289\n",
       "2   0.611497 -0.600979  0.667487 -0.528100\n",
       "..       ...       ...       ...       ...\n",
       "8   0.085455  0.542702 -0.957065  0.581615\n",
       "10  0.731442  0.998909 -0.269430  0.079461\n",
       "\n",
       "[6 rows x 4 columns]"
      ]
     },
     "execution_count": 45,
     "metadata": {},
     "output_type": "execute_result"
    }
   ],
   "source": [
    "df1 = pd.DataFrame(np.random.randn(6,4), index=list(range(0,12,2)), \n",
    "                   columns=list('abcd'))\n",
    "df1"
   ]
  },
  {
   "cell_type": "code",
   "execution_count": 46,
   "metadata": {},
   "outputs": [
    {
     "data": {
      "text/html": [
       "<div>\n",
       "<style scoped>\n",
       "    .dataframe tbody tr th:only-of-type {\n",
       "        vertical-align: middle;\n",
       "    }\n",
       "\n",
       "    .dataframe tbody tr th {\n",
       "        vertical-align: top;\n",
       "    }\n",
       "\n",
       "    .dataframe thead th {\n",
       "        text-align: right;\n",
       "    }\n",
       "</style>\n",
       "<table border=\"1\" class=\"dataframe\">\n",
       "  <thead>\n",
       "    <tr style=\"text-align: right;\">\n",
       "      <th></th>\n",
       "      <th>a</th>\n",
       "      <th>b</th>\n",
       "    </tr>\n",
       "  </thead>\n",
       "  <tbody>\n",
       "    <tr>\n",
       "      <th>8</th>\n",
       "      <td>0.085455</td>\n",
       "      <td>0.542702</td>\n",
       "    </tr>\n",
       "    <tr>\n",
       "      <th>10</th>\n",
       "      <td>0.731442</td>\n",
       "      <td>0.998909</td>\n",
       "    </tr>\n",
       "  </tbody>\n",
       "</table>\n",
       "</div>"
      ],
      "text/plain": [
       "           a         b\n",
       "8   0.085455  0.542702\n",
       "10  0.731442  0.998909"
      ]
     },
     "execution_count": 46,
     "metadata": {},
     "output_type": "execute_result"
    }
   ],
   "source": [
    "df1.loc[lambda x:(x.a > 0) & (x.b > 0), ['a','b']]"
   ]
  },
  {
   "cell_type": "code",
   "execution_count": 47,
   "metadata": {},
   "outputs": [
    {
     "data": {
      "text/html": [
       "<div>\n",
       "<style scoped>\n",
       "    .dataframe tbody tr th:only-of-type {\n",
       "        vertical-align: middle;\n",
       "    }\n",
       "\n",
       "    .dataframe tbody tr th {\n",
       "        vertical-align: top;\n",
       "    }\n",
       "\n",
       "    .dataframe thead th {\n",
       "        text-align: right;\n",
       "    }\n",
       "</style>\n",
       "<table border=\"1\" class=\"dataframe\">\n",
       "  <thead>\n",
       "    <tr style=\"text-align: right;\">\n",
       "      <th></th>\n",
       "      <th>a</th>\n",
       "      <th>b</th>\n",
       "      <th>c</th>\n",
       "      <th>d</th>\n",
       "    </tr>\n",
       "  </thead>\n",
       "  <tbody>\n",
       "    <tr>\n",
       "      <th>2</th>\n",
       "      <td>0.611497</td>\n",
       "      <td>-0.600979</td>\n",
       "      <td>0.667487</td>\n",
       "      <td>-0.528100</td>\n",
       "    </tr>\n",
       "    <tr>\n",
       "      <th>8</th>\n",
       "      <td>0.085455</td>\n",
       "      <td>0.542702</td>\n",
       "      <td>-0.957065</td>\n",
       "      <td>0.581615</td>\n",
       "    </tr>\n",
       "    <tr>\n",
       "      <th>10</th>\n",
       "      <td>0.731442</td>\n",
       "      <td>0.998909</td>\n",
       "      <td>-0.269430</td>\n",
       "      <td>0.079461</td>\n",
       "    </tr>\n",
       "  </tbody>\n",
       "</table>\n",
       "</div>"
      ],
      "text/plain": [
       "           a         b         c         d\n",
       "2   0.611497 -0.600979  0.667487 -0.528100\n",
       "8   0.085455  0.542702 -0.957065  0.581615\n",
       "10  0.731442  0.998909 -0.269430  0.079461"
      ]
     },
     "execution_count": 47,
     "metadata": {},
     "output_type": "execute_result"
    }
   ],
   "source": [
    "df1[df1['a'] > 0]"
   ]
  },
  {
   "cell_type": "code",
   "execution_count": 48,
   "metadata": {},
   "outputs": [
    {
     "data": {
      "text/html": [
       "<div>\n",
       "<style scoped>\n",
       "    .dataframe tbody tr th:only-of-type {\n",
       "        vertical-align: middle;\n",
       "    }\n",
       "\n",
       "    .dataframe tbody tr th {\n",
       "        vertical-align: top;\n",
       "    }\n",
       "\n",
       "    .dataframe thead th {\n",
       "        text-align: right;\n",
       "    }\n",
       "</style>\n",
       "<table border=\"1\" class=\"dataframe\">\n",
       "  <thead>\n",
       "    <tr style=\"text-align: right;\">\n",
       "      <th></th>\n",
       "      <th>a</th>\n",
       "      <th>b</th>\n",
       "      <th>c</th>\n",
       "      <th>d</th>\n",
       "    </tr>\n",
       "  </thead>\n",
       "  <tbody>\n",
       "    <tr>\n",
       "      <th>2</th>\n",
       "      <td>0.611497</td>\n",
       "      <td>-0.600979</td>\n",
       "      <td>0.667487</td>\n",
       "      <td>-0.528100</td>\n",
       "    </tr>\n",
       "    <tr>\n",
       "      <th>8</th>\n",
       "      <td>0.085455</td>\n",
       "      <td>0.542702</td>\n",
       "      <td>-0.957065</td>\n",
       "      <td>0.581615</td>\n",
       "    </tr>\n",
       "    <tr>\n",
       "      <th>10</th>\n",
       "      <td>0.731442</td>\n",
       "      <td>0.998909</td>\n",
       "      <td>-0.269430</td>\n",
       "      <td>0.079461</td>\n",
       "    </tr>\n",
       "  </tbody>\n",
       "</table>\n",
       "</div>"
      ],
      "text/plain": [
       "           a         b         c         d\n",
       "2   0.611497 -0.600979  0.667487 -0.528100\n",
       "8   0.085455  0.542702 -0.957065  0.581615\n",
       "10  0.731442  0.998909 -0.269430  0.079461"
      ]
     },
     "execution_count": 48,
     "metadata": {},
     "output_type": "execute_result"
    }
   ],
   "source": [
    "df1[~(df1['a'] < 0)]"
   ]
  },
  {
   "cell_type": "code",
   "execution_count": 49,
   "metadata": {},
   "outputs": [
    {
     "data": {
      "text/html": [
       "<div>\n",
       "<style scoped>\n",
       "    .dataframe tbody tr th:only-of-type {\n",
       "        vertical-align: middle;\n",
       "    }\n",
       "\n",
       "    .dataframe tbody tr th {\n",
       "        vertical-align: top;\n",
       "    }\n",
       "\n",
       "    .dataframe thead th {\n",
       "        text-align: right;\n",
       "    }\n",
       "</style>\n",
       "<table border=\"1\" class=\"dataframe\">\n",
       "  <thead>\n",
       "    <tr style=\"text-align: right;\">\n",
       "      <th></th>\n",
       "      <th>a</th>\n",
       "      <th>b</th>\n",
       "      <th>c</th>\n",
       "      <th>d</th>\n",
       "    </tr>\n",
       "  </thead>\n",
       "  <tbody>\n",
       "    <tr>\n",
       "      <th>0</th>\n",
       "      <td>-1.184598</td>\n",
       "      <td>-0.547340</td>\n",
       "      <td>-1.616546</td>\n",
       "      <td>0.477289</td>\n",
       "    </tr>\n",
       "    <tr>\n",
       "      <th>4</th>\n",
       "      <td>-1.766116</td>\n",
       "      <td>0.175660</td>\n",
       "      <td>-0.548450</td>\n",
       "      <td>0.332899</td>\n",
       "    </tr>\n",
       "    <tr>\n",
       "      <th>6</th>\n",
       "      <td>-0.105759</td>\n",
       "      <td>0.487688</td>\n",
       "      <td>0.968023</td>\n",
       "      <td>0.497398</td>\n",
       "    </tr>\n",
       "  </tbody>\n",
       "</table>\n",
       "</div>"
      ],
      "text/plain": [
       "          a         b         c         d\n",
       "0 -1.184598 -0.547340 -1.616546  0.477289\n",
       "4 -1.766116  0.175660 -0.548450  0.332899\n",
       "6 -0.105759  0.487688  0.968023  0.497398"
      ]
     },
     "execution_count": 49,
     "metadata": {},
     "output_type": "execute_result"
    }
   ],
   "source": [
    "df1[(df1['a'] < 0)]"
   ]
  },
  {
   "cell_type": "code",
   "execution_count": 50,
   "metadata": {},
   "outputs": [
    {
     "data": {
      "text/html": [
       "<div>\n",
       "<style scoped>\n",
       "    .dataframe tbody tr th:only-of-type {\n",
       "        vertical-align: middle;\n",
       "    }\n",
       "\n",
       "    .dataframe tbody tr th {\n",
       "        vertical-align: top;\n",
       "    }\n",
       "\n",
       "    .dataframe thead th {\n",
       "        text-align: right;\n",
       "    }\n",
       "</style>\n",
       "<table border=\"1\" class=\"dataframe\">\n",
       "  <thead>\n",
       "    <tr style=\"text-align: right;\">\n",
       "      <th></th>\n",
       "      <th>a</th>\n",
       "      <th>b</th>\n",
       "      <th>c</th>\n",
       "    </tr>\n",
       "  </thead>\n",
       "  <tbody>\n",
       "    <tr>\n",
       "      <th>0</th>\n",
       "      <td>one</td>\n",
       "      <td>x</td>\n",
       "      <td>0.347247</td>\n",
       "    </tr>\n",
       "    <tr>\n",
       "      <th>1</th>\n",
       "      <td>one</td>\n",
       "      <td>y</td>\n",
       "      <td>-1.538315</td>\n",
       "    </tr>\n",
       "    <tr>\n",
       "      <th>...</th>\n",
       "      <td>...</td>\n",
       "      <td>...</td>\n",
       "      <td>...</td>\n",
       "    </tr>\n",
       "    <tr>\n",
       "      <th>5</th>\n",
       "      <td>one</td>\n",
       "      <td>x</td>\n",
       "      <td>-0.871531</td>\n",
       "    </tr>\n",
       "    <tr>\n",
       "      <th>6</th>\n",
       "      <td>six</td>\n",
       "      <td>x</td>\n",
       "      <td>-0.750525</td>\n",
       "    </tr>\n",
       "  </tbody>\n",
       "</table>\n",
       "<p>7 rows × 3 columns</p>\n",
       "</div>"
      ],
      "text/plain": [
       "      a  b         c\n",
       "0   one  x  0.347247\n",
       "1   one  y -1.538315\n",
       "..  ... ..       ...\n",
       "5   one  x -0.871531\n",
       "6   six  x -0.750525\n",
       "\n",
       "[7 rows x 3 columns]"
      ]
     },
     "execution_count": 50,
     "metadata": {},
     "output_type": "execute_result"
    }
   ],
   "source": [
    "df2 = pd.DataFrame({'a': ['one','one','two','three','two','one','six'],\n",
    "                   'b': ['x','y','y','x','y','x','x'], 'c': np.random.randn(7)})\n",
    "df2"
   ]
  },
  {
   "cell_type": "code",
   "execution_count": 51,
   "metadata": {},
   "outputs": [],
   "source": [
    "criterion = df2['a'].map(lambda x: x.startswith('t'))\n",
    "df2.loc[criterion,'c'] = 5"
   ]
  },
  {
   "cell_type": "code",
   "execution_count": 52,
   "metadata": {},
   "outputs": [
    {
     "data": {
      "text/html": [
       "<div>\n",
       "<style scoped>\n",
       "    .dataframe tbody tr th:only-of-type {\n",
       "        vertical-align: middle;\n",
       "    }\n",
       "\n",
       "    .dataframe tbody tr th {\n",
       "        vertical-align: top;\n",
       "    }\n",
       "\n",
       "    .dataframe thead th {\n",
       "        text-align: right;\n",
       "    }\n",
       "</style>\n",
       "<table border=\"1\" class=\"dataframe\">\n",
       "  <thead>\n",
       "    <tr style=\"text-align: right;\">\n",
       "      <th></th>\n",
       "      <th>a</th>\n",
       "      <th>b</th>\n",
       "      <th>c</th>\n",
       "    </tr>\n",
       "  </thead>\n",
       "  <tbody>\n",
       "    <tr>\n",
       "      <th>2</th>\n",
       "      <td>two</td>\n",
       "      <td>y</td>\n",
       "      <td>5.0</td>\n",
       "    </tr>\n",
       "    <tr>\n",
       "      <th>3</th>\n",
       "      <td>three</td>\n",
       "      <td>x</td>\n",
       "      <td>5.0</td>\n",
       "    </tr>\n",
       "    <tr>\n",
       "      <th>4</th>\n",
       "      <td>two</td>\n",
       "      <td>y</td>\n",
       "      <td>5.0</td>\n",
       "    </tr>\n",
       "  </tbody>\n",
       "</table>\n",
       "</div>"
      ],
      "text/plain": [
       "       a  b    c\n",
       "2    two  y  5.0\n",
       "3  three  x  5.0\n",
       "4    two  y  5.0"
      ]
     },
     "execution_count": 52,
     "metadata": {},
     "output_type": "execute_result"
    }
   ],
   "source": [
    "df2[criterion]"
   ]
  },
  {
   "cell_type": "code",
   "execution_count": 53,
   "metadata": {},
   "outputs": [
    {
     "data": {
      "text/html": [
       "<div>\n",
       "<style scoped>\n",
       "    .dataframe tbody tr th:only-of-type {\n",
       "        vertical-align: middle;\n",
       "    }\n",
       "\n",
       "    .dataframe tbody tr th {\n",
       "        vertical-align: top;\n",
       "    }\n",
       "\n",
       "    .dataframe thead th {\n",
       "        text-align: right;\n",
       "    }\n",
       "</style>\n",
       "<table border=\"1\" class=\"dataframe\">\n",
       "  <thead>\n",
       "    <tr style=\"text-align: right;\">\n",
       "      <th></th>\n",
       "      <th>a</th>\n",
       "      <th>b</th>\n",
       "      <th>c</th>\n",
       "    </tr>\n",
       "  </thead>\n",
       "  <tbody>\n",
       "    <tr>\n",
       "      <th>0</th>\n",
       "      <td>one</td>\n",
       "      <td>x</td>\n",
       "      <td>0.347247</td>\n",
       "    </tr>\n",
       "    <tr>\n",
       "      <th>1</th>\n",
       "      <td>one</td>\n",
       "      <td>y</td>\n",
       "      <td>-1.538315</td>\n",
       "    </tr>\n",
       "    <tr>\n",
       "      <th>5</th>\n",
       "      <td>one</td>\n",
       "      <td>x</td>\n",
       "      <td>-0.871531</td>\n",
       "    </tr>\n",
       "    <tr>\n",
       "      <th>6</th>\n",
       "      <td>six</td>\n",
       "      <td>x</td>\n",
       "      <td>-0.750525</td>\n",
       "    </tr>\n",
       "  </tbody>\n",
       "</table>\n",
       "</div>"
      ],
      "text/plain": [
       "     a  b         c\n",
       "0  one  x  0.347247\n",
       "1  one  y -1.538315\n",
       "5  one  x -0.871531\n",
       "6  six  x -0.750525"
      ]
     },
     "execution_count": 53,
     "metadata": {},
     "output_type": "execute_result"
    }
   ],
   "source": [
    "df2[~criterion]"
   ]
  },
  {
   "cell_type": "code",
   "execution_count": 54,
   "metadata": {},
   "outputs": [
    {
     "data": {
      "text/plain": [
       "0    False\n",
       "1     True\n",
       "     ...  \n",
       "3    False\n",
       "4     True\n",
       "Length: 5, dtype: bool"
      ]
     },
     "execution_count": 54,
     "metadata": {},
     "output_type": "execute_result"
    }
   ],
   "source": [
    "s = pd.Series(np.arange(5), index=np.arange(5)[::1], dtype='int64')\n",
    "s.isin([2,4,1])"
   ]
  },
  {
   "cell_type": "code",
   "execution_count": 55,
   "metadata": {},
   "outputs": [
    {
     "data": {
      "text/html": [
       "<div>\n",
       "<style scoped>\n",
       "    .dataframe tbody tr th:only-of-type {\n",
       "        vertical-align: middle;\n",
       "    }\n",
       "\n",
       "    .dataframe tbody tr th {\n",
       "        vertical-align: top;\n",
       "    }\n",
       "\n",
       "    .dataframe thead th {\n",
       "        text-align: right;\n",
       "    }\n",
       "</style>\n",
       "<table border=\"1\" class=\"dataframe\">\n",
       "  <thead>\n",
       "    <tr style=\"text-align: right;\">\n",
       "      <th></th>\n",
       "      <th>a</th>\n",
       "      <th>b</th>\n",
       "      <th>c</th>\n",
       "    </tr>\n",
       "  </thead>\n",
       "  <tbody>\n",
       "    <tr>\n",
       "      <th>0</th>\n",
       "      <td>one</td>\n",
       "      <td>x</td>\n",
       "      <td>0.347247</td>\n",
       "    </tr>\n",
       "    <tr>\n",
       "      <th>3</th>\n",
       "      <td>three</td>\n",
       "      <td>x</td>\n",
       "      <td>5.000000</td>\n",
       "    </tr>\n",
       "    <tr>\n",
       "      <th>5</th>\n",
       "      <td>one</td>\n",
       "      <td>x</td>\n",
       "      <td>-0.871531</td>\n",
       "    </tr>\n",
       "  </tbody>\n",
       "</table>\n",
       "</div>"
      ],
      "text/plain": [
       "       a  b         c\n",
       "0    one  x  0.347247\n",
       "3  three  x  5.000000\n",
       "5    one  x -0.871531"
      ]
     },
     "execution_count": 55,
     "metadata": {},
     "output_type": "execute_result"
    }
   ],
   "source": [
    "criterion = (df2['a'].isin(['one','three']) & df2['b'].isin(['x']))\n",
    "df2[criterion]"
   ]
  },
  {
   "cell_type": "code",
   "execution_count": 56,
   "metadata": {},
   "outputs": [
    {
     "name": "stdout",
     "output_type": "stream",
     "text": [
      "<class 'pandas.core.frame.DataFrame'>\n",
      "RangeIndex: 150 entries, 0 to 149\n",
      "Data columns (total 5 columns):\n",
      "0    150 non-null float64\n",
      "1    150 non-null float64\n",
      "2    150 non-null float64\n",
      "3    150 non-null float64\n",
      "4    150 non-null object\n",
      "dtypes: float64(4), object(1)\n",
      "memory usage: 5.9+ KB\n"
     ]
    }
   ],
   "source": [
    "data = pd.read_csv('iris.data', header=None)\n",
    "data.info()"
   ]
  },
  {
   "cell_type": "code",
   "execution_count": 57,
   "metadata": {},
   "outputs": [
    {
     "data": {
      "text/html": [
       "<div>\n",
       "<style scoped>\n",
       "    .dataframe tbody tr th:only-of-type {\n",
       "        vertical-align: middle;\n",
       "    }\n",
       "\n",
       "    .dataframe tbody tr th {\n",
       "        vertical-align: top;\n",
       "    }\n",
       "\n",
       "    .dataframe thead th {\n",
       "        text-align: right;\n",
       "    }\n",
       "</style>\n",
       "<table border=\"1\" class=\"dataframe\">\n",
       "  <thead>\n",
       "    <tr style=\"text-align: right;\">\n",
       "      <th></th>\n",
       "      <th>0</th>\n",
       "      <th>1</th>\n",
       "      <th>2</th>\n",
       "      <th>3</th>\n",
       "      <th>4</th>\n",
       "    </tr>\n",
       "  </thead>\n",
       "  <tbody>\n",
       "    <tr>\n",
       "      <th>0</th>\n",
       "      <td>5.1</td>\n",
       "      <td>3.5</td>\n",
       "      <td>1.4</td>\n",
       "      <td>0.2</td>\n",
       "      <td>Iris-setosa</td>\n",
       "    </tr>\n",
       "    <tr>\n",
       "      <th>1</th>\n",
       "      <td>4.9</td>\n",
       "      <td>3.0</td>\n",
       "      <td>1.4</td>\n",
       "      <td>0.2</td>\n",
       "      <td>Iris-setosa</td>\n",
       "    </tr>\n",
       "    <tr>\n",
       "      <th>...</th>\n",
       "      <td>...</td>\n",
       "      <td>...</td>\n",
       "      <td>...</td>\n",
       "      <td>...</td>\n",
       "      <td>...</td>\n",
       "    </tr>\n",
       "    <tr>\n",
       "      <th>3</th>\n",
       "      <td>4.6</td>\n",
       "      <td>3.1</td>\n",
       "      <td>1.5</td>\n",
       "      <td>0.2</td>\n",
       "      <td>Iris-setosa</td>\n",
       "    </tr>\n",
       "    <tr>\n",
       "      <th>4</th>\n",
       "      <td>5.0</td>\n",
       "      <td>3.6</td>\n",
       "      <td>1.4</td>\n",
       "      <td>0.2</td>\n",
       "      <td>Iris-setosa</td>\n",
       "    </tr>\n",
       "  </tbody>\n",
       "</table>\n",
       "<p>5 rows × 5 columns</p>\n",
       "</div>"
      ],
      "text/plain": [
       "      0    1    2    3            4\n",
       "0   5.1  3.5  1.4  0.2  Iris-setosa\n",
       "1   4.9  3.0  1.4  0.2  Iris-setosa\n",
       "..  ...  ...  ...  ...          ...\n",
       "3   4.6  3.1  1.5  0.2  Iris-setosa\n",
       "4   5.0  3.6  1.4  0.2  Iris-setosa\n",
       "\n",
       "[5 rows x 5 columns]"
      ]
     },
     "execution_count": 57,
     "metadata": {},
     "output_type": "execute_result"
    }
   ],
   "source": [
    "data.head()"
   ]
  },
  {
   "cell_type": "code",
   "execution_count": 58,
   "metadata": {},
   "outputs": [
    {
     "data": {
      "text/html": [
       "<div>\n",
       "<style scoped>\n",
       "    .dataframe tbody tr th:only-of-type {\n",
       "        vertical-align: middle;\n",
       "    }\n",
       "\n",
       "    .dataframe tbody tr th {\n",
       "        vertical-align: top;\n",
       "    }\n",
       "\n",
       "    .dataframe thead th {\n",
       "        text-align: right;\n",
       "    }\n",
       "</style>\n",
       "<table border=\"1\" class=\"dataframe\">\n",
       "  <thead>\n",
       "    <tr style=\"text-align: right;\">\n",
       "      <th></th>\n",
       "      <th>0</th>\n",
       "      <th>1</th>\n",
       "      <th>2</th>\n",
       "      <th>3</th>\n",
       "    </tr>\n",
       "  </thead>\n",
       "  <tbody>\n",
       "    <tr>\n",
       "      <th>count</th>\n",
       "      <td>150.000000</td>\n",
       "      <td>150.000000</td>\n",
       "      <td>150.000000</td>\n",
       "      <td>150.000000</td>\n",
       "    </tr>\n",
       "    <tr>\n",
       "      <th>mean</th>\n",
       "      <td>5.843333</td>\n",
       "      <td>3.054000</td>\n",
       "      <td>3.758667</td>\n",
       "      <td>1.198667</td>\n",
       "    </tr>\n",
       "    <tr>\n",
       "      <th>std</th>\n",
       "      <td>0.828066</td>\n",
       "      <td>0.433594</td>\n",
       "      <td>1.764420</td>\n",
       "      <td>0.763161</td>\n",
       "    </tr>\n",
       "    <tr>\n",
       "      <th>min</th>\n",
       "      <td>4.300000</td>\n",
       "      <td>2.000000</td>\n",
       "      <td>1.000000</td>\n",
       "      <td>0.100000</td>\n",
       "    </tr>\n",
       "    <tr>\n",
       "      <th>25%</th>\n",
       "      <td>5.100000</td>\n",
       "      <td>2.800000</td>\n",
       "      <td>1.600000</td>\n",
       "      <td>0.300000</td>\n",
       "    </tr>\n",
       "    <tr>\n",
       "      <th>50%</th>\n",
       "      <td>5.800000</td>\n",
       "      <td>3.000000</td>\n",
       "      <td>4.350000</td>\n",
       "      <td>1.300000</td>\n",
       "    </tr>\n",
       "    <tr>\n",
       "      <th>75%</th>\n",
       "      <td>6.400000</td>\n",
       "      <td>3.300000</td>\n",
       "      <td>5.100000</td>\n",
       "      <td>1.800000</td>\n",
       "    </tr>\n",
       "    <tr>\n",
       "      <th>max</th>\n",
       "      <td>7.900000</td>\n",
       "      <td>4.400000</td>\n",
       "      <td>6.900000</td>\n",
       "      <td>2.500000</td>\n",
       "    </tr>\n",
       "  </tbody>\n",
       "</table>\n",
       "</div>"
      ],
      "text/plain": [
       "                0           1           2           3\n",
       "count  150.000000  150.000000  150.000000  150.000000\n",
       "mean     5.843333    3.054000    3.758667    1.198667\n",
       "std      0.828066    0.433594    1.764420    0.763161\n",
       "min      4.300000    2.000000    1.000000    0.100000\n",
       "25%      5.100000    2.800000    1.600000    0.300000\n",
       "50%      5.800000    3.000000    4.350000    1.300000\n",
       "75%      6.400000    3.300000    5.100000    1.800000\n",
       "max      7.900000    4.400000    6.900000    2.500000"
      ]
     },
     "execution_count": 58,
     "metadata": {},
     "output_type": "execute_result"
    }
   ],
   "source": [
    "pd.options.display.max_rows = None\n",
    "data.describe()"
   ]
  },
  {
   "cell_type": "code",
   "execution_count": 59,
   "metadata": {},
   "outputs": [
    {
     "name": "stdout",
     "output_type": "stream",
     "text": [
      "    A   B   C   D\n",
      "0  A0  B0  C0  D0\n",
      "1  A1  B1  C1  D1\n",
      "2  A2  B2  C2  D2\n",
      "3  A3  B3  C3  D3\n",
      "\n",
      "\n",
      "    A   B   C   D\n",
      "4  A4  B4  C4  D4\n",
      "5  A5  B5  C5  D5\n",
      "6  A6  B6  C6  D6\n",
      "7  A7  B7  C7  D7\n",
      "\n",
      "\n",
      "      A    B    C    D\n",
      "8    A8   B8   C8   D8\n",
      "9    A9   B9   C9   D9\n",
      "10  A10  B10  C10  D10\n",
      "11  A11  B11  C11  D11\n",
      "\n",
      "\n",
      "    B   D   F\n",
      "2  B2  D2  F2\n",
      "3  B3  D3  F3\n",
      "6  B6  D6  F6\n",
      "7  B7  D7  F7\n"
     ]
    }
   ],
   "source": [
    "df1 = pd.DataFrame({'A':['A0','A1','A2','A3'],'B':['B0','B1','B2','B3'],\n",
    "                   'C':['C0','C1','C2','C3'], 'D':['D0','D1','D2','D3']},\n",
    "                  index=[0,1,2,3])\n",
    "print(df1)\n",
    "df2 = pd.DataFrame({'A':['A4','A5','A6','A7'],'B':['B4','B5','B6','B7'],\n",
    "                   'C':['C4','C5','C6','C7'], 'D':['D4','D5','D6','D7'],\n",
    "                   },index=[4,5,6,7])\n",
    "print('\\n')\n",
    "print(df2)\n",
    "df3 = pd.DataFrame({'A':['A8','A9','A10','A11'],'B':['B8','B9','B10','B11'],\n",
    "                   'C':['C8','C9','C10','C11'],'D':['D8','D9','D10','D11']},\n",
    "                  index=[8,9,10,11])\n",
    "print('\\n')\n",
    "print(df3)\n",
    "df4 = pd.DataFrame({'B':['B2','B3','B6','B7'], 'D':['D2','D3','D6','D7'],\n",
    "                   'F':['F2','F3','F6','F7']},\n",
    "                  index=[2,3,6,7])\n",
    "print('\\n')\n",
    "print(df4)"
   ]
  },
  {
   "cell_type": "code",
   "execution_count": 60,
   "metadata": {},
   "outputs": [
    {
     "name": "stdout",
     "output_type": "stream",
     "text": [
      "      A    B    C    D\n",
      "0    A0   B0   C0   D0\n",
      "1    A1   B1   C1   D1\n",
      "2    A2   B2   C2   D2\n",
      "3    A3   B3   C3   D3\n",
      "4    A4   B4   C4   D4\n",
      "5    A5   B5   C5   D5\n",
      "6    A6   B6   C6   D6\n",
      "7    A7   B7   C7   D7\n",
      "8    A8   B8   C8   D8\n",
      "9    A9   B9   C9   D9\n",
      "10  A10  B10  C10  D10\n",
      "11  A11  B11  C11  D11\n"
     ]
    }
   ],
   "source": [
    "pd.options.display.max_rows = 12\n",
    "results = pd.concat([df1,df2,df3])\n",
    "print(results)"
   ]
  },
  {
   "cell_type": "code",
   "execution_count": 61,
   "metadata": {},
   "outputs": [
    {
     "name": "stdout",
     "output_type": "stream",
     "text": [
      "        A    B    C    D\n",
      "a 0    A0   B0   C0   D0\n",
      "  1    A1   B1   C1   D1\n",
      "  2    A2   B2   C2   D2\n",
      "  3    A3   B3   C3   D3\n",
      "b 4    A4   B4   C4   D4\n",
      "  5    A5   B5   C5   D5\n",
      "  6    A6   B6   C6   D6\n",
      "  7    A7   B7   C7   D7\n",
      "c 8    A8   B8   C8   D8\n",
      "  9    A9   B9   C9   D9\n",
      "  10  A10  B10  C10  D10\n",
      "  11  A11  B11  C11  D11\n"
     ]
    }
   ],
   "source": [
    "results = pd.concat([df1,df2,df3], keys=['a','b','c'])\n",
    "print(results)"
   ]
  },
  {
   "cell_type": "code",
   "execution_count": 62,
   "metadata": {},
   "outputs": [
    {
     "data": {
      "text/html": [
       "<div>\n",
       "<style scoped>\n",
       "    .dataframe tbody tr th:only-of-type {\n",
       "        vertical-align: middle;\n",
       "    }\n",
       "\n",
       "    .dataframe tbody tr th {\n",
       "        vertical-align: top;\n",
       "    }\n",
       "\n",
       "    .dataframe thead th {\n",
       "        text-align: right;\n",
       "    }\n",
       "</style>\n",
       "<table border=\"1\" class=\"dataframe\">\n",
       "  <thead>\n",
       "    <tr style=\"text-align: right;\">\n",
       "      <th></th>\n",
       "      <th>A</th>\n",
       "      <th>B</th>\n",
       "      <th>C</th>\n",
       "      <th>D</th>\n",
       "    </tr>\n",
       "  </thead>\n",
       "  <tbody>\n",
       "    <tr>\n",
       "      <th>0</th>\n",
       "      <td>A0</td>\n",
       "      <td>B0</td>\n",
       "      <td>C0</td>\n",
       "      <td>D0</td>\n",
       "    </tr>\n",
       "    <tr>\n",
       "      <th>1</th>\n",
       "      <td>A1</td>\n",
       "      <td>B1</td>\n",
       "      <td>C1</td>\n",
       "      <td>D1</td>\n",
       "    </tr>\n",
       "    <tr>\n",
       "      <th>2</th>\n",
       "      <td>A2</td>\n",
       "      <td>B2</td>\n",
       "      <td>C2</td>\n",
       "      <td>D2</td>\n",
       "    </tr>\n",
       "    <tr>\n",
       "      <th>3</th>\n",
       "      <td>A3</td>\n",
       "      <td>B3</td>\n",
       "      <td>C3</td>\n",
       "      <td>D3</td>\n",
       "    </tr>\n",
       "  </tbody>\n",
       "</table>\n",
       "</div>"
      ],
      "text/plain": [
       "    A   B   C   D\n",
       "0  A0  B0  C0  D0\n",
       "1  A1  B1  C1  D1\n",
       "2  A2  B2  C2  D2\n",
       "3  A3  B3  C3  D3"
      ]
     },
     "execution_count": 62,
     "metadata": {},
     "output_type": "execute_result"
    }
   ],
   "source": [
    "results.loc['a']"
   ]
  },
  {
   "cell_type": "code",
   "execution_count": 63,
   "metadata": {},
   "outputs": [
    {
     "name": "stdout",
     "output_type": "stream",
     "text": [
      "    A   B   C   D\n",
      "0  A0  B0  C0  D0\n",
      "1  A1  B1  C1  D1\n",
      "2  A2  B2  C2  D2\n",
      "3  A3  B3  C3  D3\n",
      "\n",
      "\n",
      "    B   D   F\n",
      "2  B2  D2  F2\n",
      "3  B3  D3  F3\n",
      "6  B6  D6  F6\n",
      "7  B7  D7  F7\n",
      "\n",
      "\n",
      "     A    B    C    D    B    D    F\n",
      "0   A0   B0   C0   D0  NaN  NaN  NaN\n",
      "1   A1   B1   C1   D1  NaN  NaN  NaN\n",
      "2   A2   B2   C2   D2   B2   D2   F2\n",
      "3   A3   B3   C3   D3   B3   D3   F3\n",
      "6  NaN  NaN  NaN  NaN   B6   D6   F6\n",
      "7  NaN  NaN  NaN  NaN   B7   D7   F7\n"
     ]
    }
   ],
   "source": [
    "print(df1)\n",
    "print('\\n')\n",
    "print(df4)\n",
    "result2 = pd.concat([df1,df4], axis=1)\n",
    "print('\\n')\n",
    "print(result2)"
   ]
  },
  {
   "cell_type": "code",
   "execution_count": 64,
   "metadata": {},
   "outputs": [
    {
     "name": "stdout",
     "output_type": "stream",
     "text": [
      "    A   B   C   D   B   D   F\n",
      "2  A2  B2  C2  D2  B2  D2  F2\n",
      "3  A3  B3  C3  D3  B3  D3  F3\n"
     ]
    }
   ],
   "source": [
    "result3 = pd.concat([df1,df4], axis=1, join='inner')\n",
    "print(result3)"
   ]
  },
  {
   "cell_type": "code",
   "execution_count": 65,
   "metadata": {},
   "outputs": [
    {
     "name": "stdout",
     "output_type": "stream",
     "text": [
      "    A   B   C   D    B    D    F\n",
      "0  A0  B0  C0  D0  NaN  NaN  NaN\n",
      "1  A1  B1  C1  D1  NaN  NaN  NaN\n",
      "2  A2  B2  C2  D2   B2   D2   F2\n",
      "3  A3  B3  C3  D3   B3   D3   F3\n"
     ]
    }
   ],
   "source": [
    "result4 = pd.concat([df1,df4], axis=1, join_axes=[df1.index])\n",
    "print(result4)"
   ]
  },
  {
   "cell_type": "code",
   "execution_count": 66,
   "metadata": {},
   "outputs": [
    {
     "name": "stdout",
     "output_type": "stream",
     "text": [
      "    A   B   C   D\n",
      "0  A0  B0  C0  D0\n",
      "1  A1  B1  C1  D1\n",
      "2  A2  B2  C2  D2\n",
      "3  A3  B3  C3  D3\n",
      "\n",
      "\n",
      "    A   B   C   D\n",
      "4  A4  B4  C4  D4\n",
      "5  A5  B5  C5  D5\n",
      "6  A6  B6  C6  D6\n",
      "7  A7  B7  C7  D7\n",
      "\n",
      "\n"
     ]
    },
    {
     "data": {
      "text/html": [
       "<div>\n",
       "<style scoped>\n",
       "    .dataframe tbody tr th:only-of-type {\n",
       "        vertical-align: middle;\n",
       "    }\n",
       "\n",
       "    .dataframe tbody tr th {\n",
       "        vertical-align: top;\n",
       "    }\n",
       "\n",
       "    .dataframe thead th {\n",
       "        text-align: right;\n",
       "    }\n",
       "</style>\n",
       "<table border=\"1\" class=\"dataframe\">\n",
       "  <thead>\n",
       "    <tr style=\"text-align: right;\">\n",
       "      <th></th>\n",
       "      <th>A</th>\n",
       "      <th>B</th>\n",
       "      <th>C</th>\n",
       "      <th>D</th>\n",
       "    </tr>\n",
       "  </thead>\n",
       "  <tbody>\n",
       "    <tr>\n",
       "      <th>0</th>\n",
       "      <td>A0</td>\n",
       "      <td>B0</td>\n",
       "      <td>C0</td>\n",
       "      <td>D0</td>\n",
       "    </tr>\n",
       "    <tr>\n",
       "      <th>1</th>\n",
       "      <td>A1</td>\n",
       "      <td>B1</td>\n",
       "      <td>C1</td>\n",
       "      <td>D1</td>\n",
       "    </tr>\n",
       "    <tr>\n",
       "      <th>2</th>\n",
       "      <td>A2</td>\n",
       "      <td>B2</td>\n",
       "      <td>C2</td>\n",
       "      <td>D2</td>\n",
       "    </tr>\n",
       "    <tr>\n",
       "      <th>3</th>\n",
       "      <td>A3</td>\n",
       "      <td>B3</td>\n",
       "      <td>C3</td>\n",
       "      <td>D3</td>\n",
       "    </tr>\n",
       "    <tr>\n",
       "      <th>4</th>\n",
       "      <td>A4</td>\n",
       "      <td>B4</td>\n",
       "      <td>C4</td>\n",
       "      <td>D4</td>\n",
       "    </tr>\n",
       "    <tr>\n",
       "      <th>5</th>\n",
       "      <td>A5</td>\n",
       "      <td>B5</td>\n",
       "      <td>C5</td>\n",
       "      <td>D5</td>\n",
       "    </tr>\n",
       "    <tr>\n",
       "      <th>6</th>\n",
       "      <td>A6</td>\n",
       "      <td>B6</td>\n",
       "      <td>C6</td>\n",
       "      <td>D6</td>\n",
       "    </tr>\n",
       "    <tr>\n",
       "      <th>7</th>\n",
       "      <td>A7</td>\n",
       "      <td>B7</td>\n",
       "      <td>C7</td>\n",
       "      <td>D7</td>\n",
       "    </tr>\n",
       "  </tbody>\n",
       "</table>\n",
       "</div>"
      ],
      "text/plain": [
       "    A   B   C   D\n",
       "0  A0  B0  C0  D0\n",
       "1  A1  B1  C1  D1\n",
       "2  A2  B2  C2  D2\n",
       "3  A3  B3  C3  D3\n",
       "4  A4  B4  C4  D4\n",
       "5  A5  B5  C5  D5\n",
       "6  A6  B6  C6  D6\n",
       "7  A7  B7  C7  D7"
      ]
     },
     "execution_count": 66,
     "metadata": {},
     "output_type": "execute_result"
    }
   ],
   "source": [
    "print(df1)\n",
    "print('\\n')\n",
    "print(df2)\n",
    "print('\\n')\n",
    "df1.append(df2)"
   ]
  },
  {
   "cell_type": "code",
   "execution_count": 67,
   "metadata": {},
   "outputs": [
    {
     "name": "stdout",
     "output_type": "stream",
     "text": [
      "    A   B   C   D\n",
      "0  A0  B0  C0  D0\n",
      "1  A1  B1  C1  D1\n",
      "2  A2  B2  C2  D2\n",
      "3  A3  B3  C3  D3\n",
      "\n",
      "\n",
      "    B   D   F\n",
      "2  B2  D2  F2\n",
      "3  B3  D3  F3\n",
      "6  B6  D6  F6\n",
      "7  B7  D7  F7\n",
      "\n",
      "\n"
     ]
    },
    {
     "data": {
      "text/html": [
       "<div>\n",
       "<style scoped>\n",
       "    .dataframe tbody tr th:only-of-type {\n",
       "        vertical-align: middle;\n",
       "    }\n",
       "\n",
       "    .dataframe tbody tr th {\n",
       "        vertical-align: top;\n",
       "    }\n",
       "\n",
       "    .dataframe thead th {\n",
       "        text-align: right;\n",
       "    }\n",
       "</style>\n",
       "<table border=\"1\" class=\"dataframe\">\n",
       "  <thead>\n",
       "    <tr style=\"text-align: right;\">\n",
       "      <th></th>\n",
       "      <th>A</th>\n",
       "      <th>B</th>\n",
       "      <th>C</th>\n",
       "      <th>D</th>\n",
       "      <th>F</th>\n",
       "    </tr>\n",
       "  </thead>\n",
       "  <tbody>\n",
       "    <tr>\n",
       "      <th>0</th>\n",
       "      <td>A0</td>\n",
       "      <td>B0</td>\n",
       "      <td>C0</td>\n",
       "      <td>D0</td>\n",
       "      <td>NaN</td>\n",
       "    </tr>\n",
       "    <tr>\n",
       "      <th>1</th>\n",
       "      <td>A1</td>\n",
       "      <td>B1</td>\n",
       "      <td>C1</td>\n",
       "      <td>D1</td>\n",
       "      <td>NaN</td>\n",
       "    </tr>\n",
       "    <tr>\n",
       "      <th>2</th>\n",
       "      <td>A2</td>\n",
       "      <td>B2</td>\n",
       "      <td>C2</td>\n",
       "      <td>D2</td>\n",
       "      <td>NaN</td>\n",
       "    </tr>\n",
       "    <tr>\n",
       "      <th>3</th>\n",
       "      <td>A3</td>\n",
       "      <td>B3</td>\n",
       "      <td>C3</td>\n",
       "      <td>D3</td>\n",
       "      <td>NaN</td>\n",
       "    </tr>\n",
       "    <tr>\n",
       "      <th>2</th>\n",
       "      <td>NaN</td>\n",
       "      <td>B2</td>\n",
       "      <td>NaN</td>\n",
       "      <td>D2</td>\n",
       "      <td>F2</td>\n",
       "    </tr>\n",
       "    <tr>\n",
       "      <th>3</th>\n",
       "      <td>NaN</td>\n",
       "      <td>B3</td>\n",
       "      <td>NaN</td>\n",
       "      <td>D3</td>\n",
       "      <td>F3</td>\n",
       "    </tr>\n",
       "    <tr>\n",
       "      <th>6</th>\n",
       "      <td>NaN</td>\n",
       "      <td>B6</td>\n",
       "      <td>NaN</td>\n",
       "      <td>D6</td>\n",
       "      <td>F6</td>\n",
       "    </tr>\n",
       "    <tr>\n",
       "      <th>7</th>\n",
       "      <td>NaN</td>\n",
       "      <td>B7</td>\n",
       "      <td>NaN</td>\n",
       "      <td>D7</td>\n",
       "      <td>F7</td>\n",
       "    </tr>\n",
       "  </tbody>\n",
       "</table>\n",
       "</div>"
      ],
      "text/plain": [
       "     A   B    C   D    F\n",
       "0   A0  B0   C0  D0  NaN\n",
       "1   A1  B1   C1  D1  NaN\n",
       "2   A2  B2   C2  D2  NaN\n",
       "3   A3  B3   C3  D3  NaN\n",
       "2  NaN  B2  NaN  D2   F2\n",
       "3  NaN  B3  NaN  D3   F3\n",
       "6  NaN  B6  NaN  D6   F6\n",
       "7  NaN  B7  NaN  D7   F7"
      ]
     },
     "execution_count": 67,
     "metadata": {},
     "output_type": "execute_result"
    }
   ],
   "source": [
    "print(df1)\n",
    "print('\\n')\n",
    "print(df4)\n",
    "print('\\n')\n",
    "df1.append(df4, sort=False)"
   ]
  },
  {
   "cell_type": "code",
   "execution_count": 68,
   "metadata": {},
   "outputs": [
    {
     "name": "stdout",
     "output_type": "stream",
     "text": [
      "    A   B   C   D\n",
      "0  A0  B0  C0  D0\n",
      "1  A1  B1  C1  D1\n",
      "2  A2  B2  C2  D2\n",
      "3  A3  B3  C3  D3\n",
      "\n",
      "\n",
      "    A   B   C   D\n",
      "4  A4  B4  C4  D4\n",
      "5  A5  B5  C5  D5\n",
      "6  A6  B6  C6  D6\n",
      "7  A7  B7  C7  D7\n",
      "\n",
      "\n",
      "      A    B    C    D\n",
      "8    A8   B8   C8   D8\n",
      "9    A9   B9   C9   D9\n",
      "10  A10  B10  C10  D10\n",
      "11  A11  B11  C11  D11\n",
      "\n",
      "\n"
     ]
    },
    {
     "data": {
      "text/html": [
       "<div>\n",
       "<style scoped>\n",
       "    .dataframe tbody tr th:only-of-type {\n",
       "        vertical-align: middle;\n",
       "    }\n",
       "\n",
       "    .dataframe tbody tr th {\n",
       "        vertical-align: top;\n",
       "    }\n",
       "\n",
       "    .dataframe thead th {\n",
       "        text-align: right;\n",
       "    }\n",
       "</style>\n",
       "<table border=\"1\" class=\"dataframe\">\n",
       "  <thead>\n",
       "    <tr style=\"text-align: right;\">\n",
       "      <th></th>\n",
       "      <th>A</th>\n",
       "      <th>B</th>\n",
       "      <th>C</th>\n",
       "      <th>D</th>\n",
       "    </tr>\n",
       "  </thead>\n",
       "  <tbody>\n",
       "    <tr>\n",
       "      <th>0</th>\n",
       "      <td>A0</td>\n",
       "      <td>B0</td>\n",
       "      <td>C0</td>\n",
       "      <td>D0</td>\n",
       "    </tr>\n",
       "    <tr>\n",
       "      <th>1</th>\n",
       "      <td>A1</td>\n",
       "      <td>B1</td>\n",
       "      <td>C1</td>\n",
       "      <td>D1</td>\n",
       "    </tr>\n",
       "    <tr>\n",
       "      <th>2</th>\n",
       "      <td>A2</td>\n",
       "      <td>B2</td>\n",
       "      <td>C2</td>\n",
       "      <td>D2</td>\n",
       "    </tr>\n",
       "    <tr>\n",
       "      <th>3</th>\n",
       "      <td>A3</td>\n",
       "      <td>B3</td>\n",
       "      <td>C3</td>\n",
       "      <td>D3</td>\n",
       "    </tr>\n",
       "    <tr>\n",
       "      <th>4</th>\n",
       "      <td>A4</td>\n",
       "      <td>B4</td>\n",
       "      <td>C4</td>\n",
       "      <td>D4</td>\n",
       "    </tr>\n",
       "    <tr>\n",
       "      <th>5</th>\n",
       "      <td>A5</td>\n",
       "      <td>B5</td>\n",
       "      <td>C5</td>\n",
       "      <td>D5</td>\n",
       "    </tr>\n",
       "    <tr>\n",
       "      <th>6</th>\n",
       "      <td>A6</td>\n",
       "      <td>B6</td>\n",
       "      <td>C6</td>\n",
       "      <td>D6</td>\n",
       "    </tr>\n",
       "    <tr>\n",
       "      <th>7</th>\n",
       "      <td>A7</td>\n",
       "      <td>B7</td>\n",
       "      <td>C7</td>\n",
       "      <td>D7</td>\n",
       "    </tr>\n",
       "    <tr>\n",
       "      <th>8</th>\n",
       "      <td>A8</td>\n",
       "      <td>B8</td>\n",
       "      <td>C8</td>\n",
       "      <td>D8</td>\n",
       "    </tr>\n",
       "    <tr>\n",
       "      <th>9</th>\n",
       "      <td>A9</td>\n",
       "      <td>B9</td>\n",
       "      <td>C9</td>\n",
       "      <td>D9</td>\n",
       "    </tr>\n",
       "    <tr>\n",
       "      <th>10</th>\n",
       "      <td>A10</td>\n",
       "      <td>B10</td>\n",
       "      <td>C10</td>\n",
       "      <td>D10</td>\n",
       "    </tr>\n",
       "    <tr>\n",
       "      <th>11</th>\n",
       "      <td>A11</td>\n",
       "      <td>B11</td>\n",
       "      <td>C11</td>\n",
       "      <td>D11</td>\n",
       "    </tr>\n",
       "  </tbody>\n",
       "</table>\n",
       "</div>"
      ],
      "text/plain": [
       "      A    B    C    D\n",
       "0    A0   B0   C0   D0\n",
       "1    A1   B1   C1   D1\n",
       "2    A2   B2   C2   D2\n",
       "3    A3   B3   C3   D3\n",
       "4    A4   B4   C4   D4\n",
       "5    A5   B5   C5   D5\n",
       "6    A6   B6   C6   D6\n",
       "7    A7   B7   C7   D7\n",
       "8    A8   B8   C8   D8\n",
       "9    A9   B9   C9   D9\n",
       "10  A10  B10  C10  D10\n",
       "11  A11  B11  C11  D11"
      ]
     },
     "execution_count": 68,
     "metadata": {},
     "output_type": "execute_result"
    }
   ],
   "source": [
    "print(df1)\n",
    "print('\\n')\n",
    "print(df2)\n",
    "print('\\n')\n",
    "print(df3)\n",
    "print('\\n')\n",
    "df1.append([df2,df3])"
   ]
  },
  {
   "cell_type": "code",
   "execution_count": 69,
   "metadata": {},
   "outputs": [
    {
     "name": "stdout",
     "output_type": "stream",
     "text": [
      "    A   B   C   D\n",
      "0  A0  B0  C0  D0\n",
      "1  A1  B1  C1  D1\n",
      "2  A2  B2  C2  D2\n",
      "3  A3  B3  C3  D3\n",
      "\n",
      "\n",
      "    B   D   F\n",
      "2  B2  D2  F2\n",
      "3  B3  D3  F3\n",
      "6  B6  D6  F6\n",
      "7  B7  D7  F7\n",
      "\n",
      "\n"
     ]
    },
    {
     "data": {
      "text/html": [
       "<div>\n",
       "<style scoped>\n",
       "    .dataframe tbody tr th:only-of-type {\n",
       "        vertical-align: middle;\n",
       "    }\n",
       "\n",
       "    .dataframe tbody tr th {\n",
       "        vertical-align: top;\n",
       "    }\n",
       "\n",
       "    .dataframe thead th {\n",
       "        text-align: right;\n",
       "    }\n",
       "</style>\n",
       "<table border=\"1\" class=\"dataframe\">\n",
       "  <thead>\n",
       "    <tr style=\"text-align: right;\">\n",
       "      <th></th>\n",
       "      <th>A</th>\n",
       "      <th>B</th>\n",
       "      <th>C</th>\n",
       "      <th>D</th>\n",
       "      <th>F</th>\n",
       "    </tr>\n",
       "  </thead>\n",
       "  <tbody>\n",
       "    <tr>\n",
       "      <th>0</th>\n",
       "      <td>A0</td>\n",
       "      <td>B0</td>\n",
       "      <td>C0</td>\n",
       "      <td>D0</td>\n",
       "      <td>NaN</td>\n",
       "    </tr>\n",
       "    <tr>\n",
       "      <th>1</th>\n",
       "      <td>A1</td>\n",
       "      <td>B1</td>\n",
       "      <td>C1</td>\n",
       "      <td>D1</td>\n",
       "      <td>NaN</td>\n",
       "    </tr>\n",
       "    <tr>\n",
       "      <th>2</th>\n",
       "      <td>A2</td>\n",
       "      <td>B2</td>\n",
       "      <td>C2</td>\n",
       "      <td>D2</td>\n",
       "      <td>NaN</td>\n",
       "    </tr>\n",
       "    <tr>\n",
       "      <th>3</th>\n",
       "      <td>A3</td>\n",
       "      <td>B3</td>\n",
       "      <td>C3</td>\n",
       "      <td>D3</td>\n",
       "      <td>NaN</td>\n",
       "    </tr>\n",
       "    <tr>\n",
       "      <th>4</th>\n",
       "      <td>NaN</td>\n",
       "      <td>B2</td>\n",
       "      <td>NaN</td>\n",
       "      <td>D2</td>\n",
       "      <td>F2</td>\n",
       "    </tr>\n",
       "    <tr>\n",
       "      <th>5</th>\n",
       "      <td>NaN</td>\n",
       "      <td>B3</td>\n",
       "      <td>NaN</td>\n",
       "      <td>D3</td>\n",
       "      <td>F3</td>\n",
       "    </tr>\n",
       "    <tr>\n",
       "      <th>6</th>\n",
       "      <td>NaN</td>\n",
       "      <td>B6</td>\n",
       "      <td>NaN</td>\n",
       "      <td>D6</td>\n",
       "      <td>F6</td>\n",
       "    </tr>\n",
       "    <tr>\n",
       "      <th>7</th>\n",
       "      <td>NaN</td>\n",
       "      <td>B7</td>\n",
       "      <td>NaN</td>\n",
       "      <td>D7</td>\n",
       "      <td>F7</td>\n",
       "    </tr>\n",
       "  </tbody>\n",
       "</table>\n",
       "</div>"
      ],
      "text/plain": [
       "     A   B    C   D    F\n",
       "0   A0  B0   C0  D0  NaN\n",
       "1   A1  B1   C1  D1  NaN\n",
       "2   A2  B2   C2  D2  NaN\n",
       "3   A3  B3   C3  D3  NaN\n",
       "4  NaN  B2  NaN  D2   F2\n",
       "5  NaN  B3  NaN  D3   F3\n",
       "6  NaN  B6  NaN  D6   F6\n",
       "7  NaN  B7  NaN  D7   F7"
      ]
     },
     "execution_count": 69,
     "metadata": {},
     "output_type": "execute_result"
    }
   ],
   "source": [
    "print(df1)\n",
    "print('\\n')\n",
    "print(df4)\n",
    "print('\\n')\n",
    "pd.concat([df1,df4], sort=False, ignore_index=True)"
   ]
  },
  {
   "cell_type": "code",
   "execution_count": 70,
   "metadata": {},
   "outputs": [
    {
     "name": "stdout",
     "output_type": "stream",
     "text": [
      "   key  lval\n",
      "0  foo     1\n",
      "1  foo     2\n",
      "\n",
      "\n",
      "   key  rval\n",
      "0  foo     4\n",
      "1  foo     5\n",
      "\n",
      "\n",
      "   key  lval  rval\n",
      "0  foo     1     4\n",
      "1  foo     1     5\n",
      "2  foo     2     4\n",
      "3  foo     2     5\n"
     ]
    }
   ],
   "source": [
    "left = pd.DataFrame({'key':['foo','foo'], 'lval':[1,2]})\n",
    "print(left)\n",
    "right = pd.DataFrame({'key':['foo','foo'],'rval':[4,5]})\n",
    "print('\\n')\n",
    "print(right)\n",
    "merged = pd.merge(left, right, on='key')\n",
    "print('\\n')\n",
    "print(merged)"
   ]
  },
  {
   "cell_type": "code",
   "execution_count": 71,
   "metadata": {},
   "outputs": [
    {
     "name": "stdout",
     "output_type": "stream",
     "text": [
      "   key  lval\n",
      "0  foo     1\n",
      "1  bar     2\n",
      "\n",
      "\n",
      "   key  rval\n",
      "0  foo     4\n",
      "1  bar     5\n",
      "\n",
      "\n",
      "   key  lval  rval\n",
      "0  foo     1     4\n",
      "1  bar     2     5\n"
     ]
    }
   ],
   "source": [
    "left = pd.DataFrame({'key':['foo','bar'], 'lval':[1,2]})\n",
    "print(left)\n",
    "right = pd.DataFrame({'key':['foo','bar'],'rval':[4,5]})\n",
    "print('\\n')\n",
    "print(right)\n",
    "merged = pd.merge(left, right, on='key')\n",
    "print('\\n')\n",
    "print(merged)"
   ]
  },
  {
   "cell_type": "code",
   "execution_count": 72,
   "metadata": {},
   "outputs": [
    {
     "name": "stdout",
     "output_type": "stream",
     "text": [
      "           0         3         6         9\n",
      "0   0.796849 -0.468010 -1.476326 -0.925210\n",
      "2   0.974891 -0.054504 -1.501600 -0.554972\n",
      "4   0.961573  0.667783 -0.161394 -0.637102\n",
      "6  -2.035873 -1.885710  2.132299 -0.151140\n",
      "8  -0.048181 -0.281087 -1.259189 -0.692013\n",
      "10  1.636997  1.810832 -1.322764  0.819100\n",
      "\n",
      "\n"
     ]
    },
    {
     "data": {
      "text/plain": [
       "0    0.381043\n",
       "3   -0.035116\n",
       "6   -0.598162\n",
       "9   -0.356889\n",
       "dtype: float64"
      ]
     },
     "execution_count": 72,
     "metadata": {},
     "output_type": "execute_result"
    }
   ],
   "source": [
    "df1 = pd.DataFrame(np.random.randn(6,4), index=list(range(0,12,2)), \n",
    "                   columns=list(range(0,12,3)))\n",
    "print(df1)\n",
    "print('\\n')\n",
    "df1.apply(np.mean)"
   ]
  },
  {
   "cell_type": "code",
   "execution_count": 73,
   "metadata": {},
   "outputs": [
    {
     "data": {
      "text/plain": [
       "0    -0.518174\n",
       "2    -0.284046\n",
       "4     0.207715\n",
       "6    -0.485106\n",
       "8    -0.570117\n",
       "10    0.736041\n",
       "dtype: float64"
      ]
     },
     "execution_count": 73,
     "metadata": {},
     "output_type": "execute_result"
    }
   ],
   "source": [
    "df1.apply(np.mean, axis=1)"
   ]
  },
  {
   "cell_type": "code",
   "execution_count": 74,
   "metadata": {},
   "outputs": [
    {
     "data": {
      "text/html": [
       "<div>\n",
       "<style scoped>\n",
       "    .dataframe tbody tr th:only-of-type {\n",
       "        vertical-align: middle;\n",
       "    }\n",
       "\n",
       "    .dataframe tbody tr th {\n",
       "        vertical-align: top;\n",
       "    }\n",
       "\n",
       "    .dataframe thead th {\n",
       "        text-align: right;\n",
       "    }\n",
       "</style>\n",
       "<table border=\"1\" class=\"dataframe\">\n",
       "  <thead>\n",
       "    <tr style=\"text-align: right;\">\n",
       "      <th></th>\n",
       "      <th>0</th>\n",
       "      <th>3</th>\n",
       "      <th>6</th>\n",
       "      <th>9</th>\n",
       "    </tr>\n",
       "  </thead>\n",
       "  <tbody>\n",
       "    <tr>\n",
       "      <th>0</th>\n",
       "      <td>0.319554</td>\n",
       "      <td>-0.351712</td>\n",
       "      <td>-0.614971</td>\n",
       "      <td>-0.903500</td>\n",
       "    </tr>\n",
       "    <tr>\n",
       "      <th>2</th>\n",
       "      <td>0.456383</td>\n",
       "      <td>-0.015752</td>\n",
       "      <td>-0.632671</td>\n",
       "      <td>-0.314907</td>\n",
       "    </tr>\n",
       "    <tr>\n",
       "      <th>4</th>\n",
       "      <td>0.446147</td>\n",
       "      <td>0.571083</td>\n",
       "      <td>0.305866</td>\n",
       "      <td>-0.445474</td>\n",
       "    </tr>\n",
       "    <tr>\n",
       "      <th>6</th>\n",
       "      <td>-1.857441</td>\n",
       "      <td>-1.503548</td>\n",
       "      <td>1.912121</td>\n",
       "      <td>0.327095</td>\n",
       "    </tr>\n",
       "    <tr>\n",
       "      <th>8</th>\n",
       "      <td>-0.329866</td>\n",
       "      <td>-0.199844</td>\n",
       "      <td>-0.462912</td>\n",
       "      <td>-0.532770</td>\n",
       "    </tr>\n",
       "    <tr>\n",
       "      <th>10</th>\n",
       "      <td>0.965222</td>\n",
       "      <td>1.499773</td>\n",
       "      <td>-0.507433</td>\n",
       "      <td>1.869556</td>\n",
       "    </tr>\n",
       "  </tbody>\n",
       "</table>\n",
       "</div>"
      ],
      "text/plain": [
       "           0         3         6         9\n",
       "0   0.319554 -0.351712 -0.614971 -0.903500\n",
       "2   0.456383 -0.015752 -0.632671 -0.314907\n",
       "4   0.446147  0.571083  0.305866 -0.445474\n",
       "6  -1.857441 -1.503548  1.912121  0.327095\n",
       "8  -0.329866 -0.199844 -0.462912 -0.532770\n",
       "10  0.965222  1.499773 -0.507433  1.869556"
      ]
     },
     "execution_count": 74,
     "metadata": {},
     "output_type": "execute_result"
    }
   ],
   "source": [
    "df1.apply(lambda x: (x-x.mean())/x.std(), axis=0)"
   ]
  },
  {
   "cell_type": "code",
   "execution_count": 75,
   "metadata": {},
   "outputs": [
    {
     "name": "stdout",
     "output_type": "stream",
     "text": [
      "  key  data\n",
      "0   A     0\n",
      "1   B     5\n",
      "2   C    10\n",
      "3   A     5\n",
      "4   B    10\n",
      "5   C    15\n",
      "6   A    10\n",
      "7   B    15\n",
      "8   C    20\n"
     ]
    }
   ],
   "source": [
    "df = pd.DataFrame({'key':['A','B','C','A','B','C','A','B','C'],\n",
    "                 'data':[0,5,10,5,10,15,10,15,20]})\n",
    "print(df)"
   ]
  },
  {
   "cell_type": "code",
   "execution_count": 77,
   "metadata": {},
   "outputs": [
    {
     "name": "stdout",
     "output_type": "stream",
     "text": [
      "  key  data\n",
      "0   A     0\n",
      "3   A     5\n",
      "6   A    10\n",
      "\n",
      "\n",
      "  key  data\n",
      "2   C    10\n",
      "5   C    15\n",
      "8   C    20\n"
     ]
    }
   ],
   "source": [
    "grouped_df=df.groupby('key')\n",
    "print(grouped_df.get_group('A'))\n",
    "print('\\n')\n",
    "print(grouped_df.get_group('C'))"
   ]
  }
 ],
 "metadata": {
  "kernelspec": {
   "display_name": "Python 3",
   "language": "python",
   "name": "python3"
  },
  "language_info": {
   "codemirror_mode": {
    "name": "ipython",
    "version": 3
   },
   "file_extension": ".py",
   "mimetype": "text/x-python",
   "name": "python",
   "nbconvert_exporter": "python",
   "pygments_lexer": "ipython3",
   "version": "3.6.5"
  }
 },
 "nbformat": 4,
 "nbformat_minor": 2
}
