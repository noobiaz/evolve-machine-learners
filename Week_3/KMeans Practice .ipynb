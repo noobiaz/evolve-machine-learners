{
 "cells": [
  {
   "cell_type": "code",
   "execution_count": 1,
   "metadata": {},
   "outputs": [],
   "source": [
    "import numpy as np\n",
    "import matplotlib.pyplot as plt\n",
    "from sklearn.datasets import make_blobs\n",
    "from sklearn.model_selection import train_test_split\n",
    "import math\n",
    "import sys\n",
    "np.set_printoptions(threshold=20)"
   ]
  },
  {
   "cell_type": "code",
   "execution_count": 2,
   "metadata": {},
   "outputs": [
    {
     "name": "stdout",
     "output_type": "stream",
     "text": [
      "x train: \n",
      "[[  0.2450988    5.51754657]\n",
      " [ -0.46064203   4.59164629]\n",
      " [-11.09486686  -3.1147138 ]\n",
      " ...\n",
      " [ -9.03117325  -3.2402995 ]\n",
      " [-11.89652456  -5.07045924]\n",
      " [ -2.84187803   3.74073535]]\n",
      "\n",
      "y train: \n",
      "[0 0 1 ... 1 1 0]\n",
      "\n",
      "x test: \n",
      "[[ -9.20932623  -8.52279053]\n",
      " [-10.27355857  -2.72439296]\n",
      " [-10.77557133  -2.83750744]\n",
      " ...\n",
      " [ -9.54642849  -5.63740853]\n",
      " [ -1.55333718   2.88080955]\n",
      " [-10.44645054  -4.62579659]]\n",
      "\n",
      "y test: \n",
      "[2 1 1 ... 1 0 1]\n"
     ]
    }
   ],
   "source": [
    "# Make 2xn X matrix and an n vector y - Generating the dataset\n",
    "X, y = make_blobs(centers=3, n_samples=500, random_state=1)\n",
    "x_train, x_test, y_train, y_test = train_test_split(X, y, test_size = 0.3, random_state = 42)\n",
    "print(f'x train: \\n{x_train}')\n",
    "print(f'\\ny train: \\n{y_train}')\n",
    "print(f'\\nx test: \\n{x_test}')\n",
    "print(f'\\ny test: \\n{y_test}')"
   ]
  },
  {
   "cell_type": "code",
   "execution_count": 3,
   "metadata": {},
   "outputs": [
    {
     "name": "stdout",
     "output_type": "stream",
     "text": [
      "Centroids: \n",
      "[[-7.1870362  -8.83407968]\n",
      " [-1.3748118   4.66895731]\n",
      " [-6.13938097 -8.61021596]]\n"
     ]
    }
   ],
   "source": [
    "# Initialize the centroids from random data points\n",
    "k=3 \n",
    "maxiter=50\n",
    "centroids = x_train[np.random.randint(x_train.shape[0], size=k)]\n",
    "print(f'Centroids: \\n{centroids}')"
   ]
  },
  {
   "cell_type": "markdown",
   "metadata": {},
   "source": [
    "Training"
   ]
  },
  {
   "cell_type": "code",
   "execution_count": 4,
   "metadata": {},
   "outputs": [
    {
     "name": "stdout",
     "output_type": "stream",
     "text": [
      "Classes: \n",
      "[0. 0. 0. ... 0. 0. 0.]\n",
      "\n",
      "Distances: \n",
      "[[0. 0. 0.]\n",
      " [0. 0. 0.]\n",
      " [0. 0. 0.]\n",
      " ...\n",
      " [0. 0. 0.]\n",
      " [0. 0. 0.]\n",
      " [0. 0. 0.]]\n"
     ]
    }
   ],
   "source": [
    "# Initialize vectors to store the assigned classes of each data point\n",
    "# and the calculated distances from each centroid\n",
    "classes = np.zeros(x_train.shape[0], dtype=np.float64)\n",
    "distances = np.zeros([x_train.shape[0], k], dtype=np.float64)\n",
    "print(f'Classes: \\n{classes}')\n",
    "print(f'\\nDistances: \\n{distances}')"
   ]
  },
  {
   "cell_type": "code",
   "execution_count": 5,
   "metadata": {},
   "outputs": [
    {
     "name": "stdout",
     "output_type": "stream",
     "text": [
      "Distances: \n",
      "[[13.95428871  2.07195846 15.57999955]\n",
      " [12.81111556  1.08719225 14.43312709]\n",
      " [ 1.25641367 12.19680301  6.56778272]\n",
      " ...\n",
      " [ 1.2247088  10.74741132  5.41257642]\n",
      " [ 2.17641585 14.07845505  5.83023746]\n",
      " [10.50197589  1.49007889 12.7119356 ]]\n",
      "\n",
      "Classes: \n",
      "[1 1 0 ... 0 0 1]\n",
      "\n",
      "Each Final Classes:\n",
      "(119, 2)\n",
      "(118, 2)\n",
      "(113, 2)\n"
     ]
    }
   ],
   "source": [
    "for i in range (maxiter):\n",
    "    # Assign all points to the nearest centroids\n",
    "    for i,c in enumerate(centroids):\n",
    "        distancess = []\n",
    "        for j in range(len(x_train)):\n",
    "            distance = 0 \n",
    "            # Calculating distance for each centroids\n",
    "            for l in range(len(x_train[j])):\n",
    "                distance += math.pow((c[l] - x_train[j][l]), 2)\n",
    "            # Storing all the calculated distance \n",
    "            distancess.append(math.sqrt(distance))\n",
    "        distances[:, i] = distancess\n",
    "    # Determine class membership of each point using np.argmin which\n",
    "    # return indices of minimum values across an axis\n",
    "    # which are the minimum distances to centroid\n",
    "    y_train_hat = np.argmin(distances, axis=1)\n",
    "    # Update centroid location using newly assigned data point classes\n",
    "    for c in range(k):\n",
    "        centroids[c] = np.mean(x_train[y_train_hat == c], 0)\n",
    "print(f'Distances: \\n{distances}')\n",
    "print(f'\\nClasses: \\n{y_train_hat}')\n",
    "print(f'\\nEach Final Classes:')\n",
    "print(x_train[y_train_hat == 0].shape)\n",
    "print(x_train[y_train_hat == 1].shape)\n",
    "print(x_train[y_train_hat == 2].shape)"
   ]
  },
  {
   "cell_type": "markdown",
   "metadata": {},
   "source": [
    "Testing"
   ]
  },
  {
   "cell_type": "code",
   "execution_count": 6,
   "metadata": {},
   "outputs": [
    {
     "name": "stdout",
     "output_type": "stream",
     "text": [
      "Classes: \n",
      "[0. 0. 0. ... 0. 0. 0.]\n",
      "\n",
      "Distances: \n",
      "[[0. 0. 0.]\n",
      " [0. 0. 0.]\n",
      " [0. 0. 0.]\n",
      " ...\n",
      " [0. 0. 0.]\n",
      " [0. 0. 0.]\n",
      " [0. 0. 0.]]\n"
     ]
    }
   ],
   "source": [
    "# Repeating the same procedure for training data\n",
    "classes = np.zeros(x_test.shape[0], dtype=np.float64)\n",
    "distances = np.zeros([x_test.shape[0], k], dtype=np.float64)\n",
    "print(f'Classes: \\n{classes}')\n",
    "print(f'\\nDistances: \\n{distances}')"
   ]
  },
  {
   "cell_type": "code",
   "execution_count": 7,
   "metadata": {},
   "outputs": [
    {
     "name": "stdout",
     "output_type": "stream",
     "text": [
      "Distances: \n",
      "[[ 4.74135451 15.08433415  2.20496332]\n",
      " [ 1.15413089 11.31267224  6.42565072]\n",
      " [ 1.23606021 11.77439116  6.60056903]\n",
      " ...\n",
      " [ 1.85441698 12.89134808  3.64561436]\n",
      " [10.87573765  1.58599833 12.4141364 ]\n",
      " [ 0.84368998 12.72745229  4.99890315]]\n",
      "\n",
      "Classes: \n",
      "[2 0 0 ... 0 1 0]\n",
      "\n",
      "Each Final Classes:\n",
      "(49, 2)\n",
      "(53, 2)\n",
      "(0, 2)\n"
     ]
    }
   ],
   "source": [
    "for i,c in enumerate(centroids):\n",
    "    distancess = []\n",
    "    for j in range(len(x_test)):\n",
    "        distance = 0 \n",
    "        for l in range(len(x_test[j])):\n",
    "            distance += math.pow((c[l] - x_test[j][l]), 2)\n",
    "        distancess.append(math.sqrt(distance))\n",
    "    distances[:, i] = distancess\n",
    "y_test_hat = np.argmin(distances, axis=1)\n",
    "print(f'Distances: \\n{distances}')\n",
    "print(f'\\nClasses: \\n{y_test_hat}')\n",
    "print(f'\\nEach Final Classes:')\n",
    "print(x_test[y_test_hat == 1].shape)\n",
    "print(x_test[y_test_hat == 2].shape)\n",
    "print(x_test[y_test_hat == 3].shape)"
   ]
  },
  {
   "cell_type": "code",
   "execution_count": 114,
   "metadata": {},
   "outputs": [
    {
     "name": "stdout",
     "output_type": "stream",
     "text": [
      "Classes: \n",
      "[0. 0. 0. ... 0. 0. 0.]\n",
      "\n",
      "Distances: \n",
      "[[0. 0. 0.]\n",
      " [0. 0. 0.]\n",
      " [0. 0. 0.]\n",
      " ...\n",
      " [0. 0. 0.]\n",
      " [0. 0. 0.]\n",
      " [0. 0. 0.]]\n",
      "Distances: \n",
      "[[13.95428871  2.07195846 15.57999955]\n",
      " [12.81111556  1.08719225 14.43312709]\n",
      " [ 1.25641367 12.19680301  6.56778272]\n",
      " ...\n",
      " [ 1.2247088  10.74741132  5.41257642]\n",
      " [ 2.17641585 14.07845505  5.83023746]\n",
      " [10.50197589  1.49007889 12.7119356 ]]\n",
      "\n",
      "Classes: \n",
      "[2 0 0 ... 0 1 0]\n",
      "\n",
      "Each Final Classes:\n",
      "(118, 2)\n",
      "(113, 2)\n",
      "(0, 2)\n"
     ]
    }
   ],
   "source": [
    "# Repeating the testing procedure but for x_train\n",
    "k = 3\n",
    "classes = np.zeros(x_train.shape[0], dtype=np.float64)\n",
    "distances = np.zeros([x_train.shape[0], k], dtype=np.float64)\n",
    "print(f'Classes: \\n{classes}')\n",
    "print(f'\\nDistances: \\n{distances}')\n",
    "for i,c in enumerate(centroids):\n",
    "    distancess = []\n",
    "    for j in range(len(x_train)):\n",
    "        distance = 0 \n",
    "        for l in range(len(x_train[j])):\n",
    "            distance += math.pow((c[l] - x_train[j][l]), 2)\n",
    "        distancess.append(math.sqrt(distance))\n",
    "    distances[:, i] = distancess\n",
    "y_train_hat = np.argmin(distances, axis=1)\n",
    "print(f'Distances: \\n{distances}')\n",
    "print(f'\\nClasses: \\n{y_test_hat}')\n",
    "print(f'\\nEach Final Classes:')\n",
    "print(x_train[y_train_hat == 1].shape)\n",
    "print(x_train[y_train_hat == 2].shape)\n",
    "print(x_train[y_train_hat == 3].shape)"
   ]
  },
  {
   "cell_type": "code",
   "execution_count": 9,
   "metadata": {
    "scrolled": true
   },
   "outputs": [
    {
     "name": "stdout",
     "output_type": "stream",
     "text": [
      "Data Membership: \n",
      "{1: [0, 1, 3, 5, 6, 9, 11, 15, 16, 19, 23, 24, 27, 28, 39, 42, 43, 46, 48, 49, 51, 52, 54, 60, 64, 71, 72, 74, 77, 79, 85, 86, 95, 96, 98, 102, 103, 114, 115, 125, 126, 127, 128, 129, 132, 136, 138, 140, 141, 142, 144, 151, 154, 156, 157, 158, 161, 165, 167, 169, 176, 179, 180, 184, 187, 193, 196, 197, 199, 205, 212, 213, 218, 220, 221, 223, 225, 226, 227, 228, 231, 233, 234, 235, 240, 244, 245, 248, 255, 258, 260, 262, 264, 265, 273, 278, 285, 288, 298, 301, 302, 303, 307, 312, 313, 317, 318, 325, 328, 330, 331, 332, 333, 335, 336, 337, 344, 349], 0: [2, 10, 12, 13, 14, 18, 20, 21, 26, 33, 35, 37, 38, 40, 41, 44, 47, 55, 63, 69, 73, 80, 82, 83, 84, 87, 90, 94, 97, 101, 104, 105, 107, 108, 110, 111, 112, 113, 118, 120, 121, 123, 130, 131, 133, 134, 137, 147, 148, 149, 160, 164, 166, 168, 174, 178, 182, 183, 185, 186, 189, 192, 194, 200, 201, 206, 208, 209, 210, 215, 216, 219, 222, 224, 229, 230, 232, 236, 237, 241, 243, 246, 254, 256, 267, 269, 270, 271, 272, 274, 275, 276, 277, 281, 283, 290, 291, 300, 304, 305, 306, 309, 310, 311, 319, 322, 323, 324, 326, 327, 334, 338, 339, 340, 341, 342, 345, 347, 348], 2: [4, 7, 8, 17, 22, 25, 29, 30, 31, 32, 34, 36, 45, 50, 53, 56, 57, 58, 59, 61, 62, 65, 66, 67, 68, 70, 75, 76, 78, 81, 88, 89, 91, 92, 93, 99, 100, 106, 109, 116, 117, 119, 122, 124, 135, 139, 143, 145, 146, 150, 152, 153, 155, 159, 162, 163, 170, 171, 172, 173, 175, 177, 181, 188, 190, 191, 195, 198, 202, 203, 204, 207, 211, 214, 217, 238, 239, 242, 247, 249, 250, 251, 252, 253, 257, 259, 261, 263, 266, 268, 279, 280, 282, 284, 286, 287, 289, 292, 293, 294, 295, 296, 297, 299, 308, 314, 315, 316, 320, 321, 329, 343, 346]}\n"
     ]
    }
   ],
   "source": [
    "# Making dictionary and assign each class indices to its class\n",
    "predicted_classes = y_train_hat\n",
    "data_membership = {}\n",
    "for i in range(len(predicted_classes)):\n",
    "    p_class = predicted_classes[i]\n",
    "    if p_class in data_membership:\n",
    "        data_membership[p_class].append(i)\n",
    "    else:\n",
    "        data_membership[p_class]=[i]\n",
    "print(f'Data Membership: \\n{data_membership}')"
   ]
  },
  {
   "cell_type": "code",
   "execution_count": 133,
   "metadata": {},
   "outputs": [
    {
     "name": "stdout",
     "output_type": "stream",
     "text": [
      "Minimal distance between centroids: \n",
      "5.364641799393381\n",
      "\n",
      "Maximum distance between data and its centroids: \n",
      "4.167166256560769\n",
      "\n",
      "Dunn Index: \n",
      "1.287359675402274\n"
     ]
    }
   ],
   "source": [
    "# Computing minimum distance between centroids\n",
    "min_d = sys.float_info.max\n",
    "for i in range(len(centroids)-1):\n",
    "    for j in range(i+1, 3):\n",
    "        distance = 0 \n",
    "        for l in range(len(centroids[j])):\n",
    "            distance += math.pow((centroids[i][l] - centroids[j][l]), 2)\n",
    "        d = math.sqrt(distance)\n",
    "        if d < min_d:\n",
    "            min_d = d\n",
    "min_d_centroids = min_d\n",
    "print(f'Minimal distance between centroids: \\n{min_d}')\n",
    "# Computing maximum distance between data and its centroids\n",
    "max_d = sys.float_info.min\n",
    "for key,values in data_membership.items():\n",
    "    for v in values:\n",
    "        distance = 0 \n",
    "        for l in range(2):\n",
    "            distance += math.pow((centroids[key][l] - x_train[v][l]), 2)\n",
    "        d = math.sqrt(distance)\n",
    "        if d > max_d:\n",
    "            max_d = d\n",
    "max_d_within_centroids = max_d\n",
    "print(f'\\nMaximum distance between data and its centroids: \\n{max_d}')\n",
    "# Computing dunn index with the formula\n",
    "di = min_d_centroids/max_d_within_centroids\n",
    "print(f'\\nDunn Index: \\n{di}')"
   ]
  },
  {
   "cell_type": "code",
   "execution_count": 150,
   "metadata": {},
   "outputs": [
    {
     "data": {
      "image/png": "[encoded data removed]",
      "text/plain": [
       "<Figure size 288x288 with 1 Axes>"
      ]
     },
     "metadata": {},
     "output_type": "display_data"
    },
    {
     "data": {
      "image/png": "[encoded data removed]",
      "text/plain": [
       "<Figure size 288x288 with 1 Axes>"
      ]
     },
     "metadata": {},
     "output_type": "display_data"
    },
    {
     "data": {
      "image/png": "[encoded data removed]",
      "text/plain": [
       "<Figure size 288x288 with 1 Axes>"
      ]
     },
     "metadata": {},
     "output_type": "display_data"
    }
   ],
   "source": [
    "# Plotting the result\n",
    "# Raw data\n",
    "fig, ax = plt.subplots(figsize=(4, 4))\n",
    "ax.scatter(X[:, 0], X[:, 1], alpha=0.5)\n",
    "ax.set_title('Raw Data')\n",
    "ax.set_xlabel('$x_1$')\n",
    "ax.set_ylabel('$x_2$')\n",
    "# Training result\n",
    "group_colors = ['skyblue', 'coral', 'lightgreen']\n",
    "# Assigning colors to each classes \n",
    "colors = [group_colors[j] for j in y_train_hat]\n",
    "fig, ax = plt.subplots(figsize=(4, 4))\n",
    "ax.scatter(x_train[:, 0], x_train[:, 1], color=colors, alpha=0.5)\n",
    "ax.scatter(centroids[:, 0], centroids[:, 1], color=['blue', 'darkred', 'green'], marker='o', lw=2)\n",
    "ax.set_title('Train Result')\n",
    "ax.set_xlabel('$x_0$')\n",
    "ax.set_ylabel('$x_1$')\n",
    "# Test result\n",
    "group_colors = ['skyblue', 'coral', 'lightgreen']\n",
    "# Assigning colors to each classes \n",
    "colors = [group_colors[j] for j in y_test_hat]\n",
    "fig, ax = plt.subplots(figsize=(4, 4))\n",
    "ax.scatter(x_test[:, 0], x_test[:, 1], color=colors, alpha=0.5)\n",
    "ax.scatter(centroids[:, 0], centroids[:, 1], color=['blue', 'darkred', 'green'], marker='o', lw=2)\n",
    "ax.set_title('Test Result')\n",
    "ax.set_xlabel('$x_0$')\n",
    "ax.set_ylabel('$x_1$')\n",
    "plt.show()"
   ]
  },
  {
   "cell_type": "code",
   "execution_count": 156,
   "metadata": {},
   "outputs": [
    {
     "data": {
      "text/plain": [
       "numpy.ndarray"
      ]
     },
     "execution_count": 156,
     "metadata": {},
     "output_type": "execute_result"
    }
   ],
   "source": [
    "type(x_train[:, 1])"
   ]
  },
  {
   "cell_type": "code",
   "execution_count": null,
   "metadata": {},
   "outputs": [],
   "source": []
  }
 ],
 "metadata": {
  "kernelspec": {
   "display_name": "Python 3",
   "language": "python",
   "name": "python3"
  },
  "language_info": {
   "codemirror_mode": {
    "name": "ipython",
    "version": 3
   },
   "file_extension": ".py",
   "mimetype": "text/x-python",
   "name": "python",
   "nbconvert_exporter": "python",
   "pygments_lexer": "ipython3",
   "version": "3.6.5"
  }
 },
 "nbformat": 4,
 "nbformat_minor": 2
}
